{
 "cells": [
  {
   "cell_type": "markdown",
   "metadata": {},
   "source": [
    "# **SAP Data Cleaning Project**  "
   ]
  },
  {
   "cell_type": "markdown",
   "metadata": {},
   "source": [
    "## Summary and goals"
   ]
  },
  {
   "cell_type": "markdown",
   "metadata": {},
   "source": [
    "**Project Objective**  \n",
    "Clean and standardize SAP data to ensure quality, consistency, and accuracy for analysis and decision-making.\n",
    "\n",
    "**Project Steps**  \n",
    "\n",
    "**1. Load Data & Libraries**  \n",
    "- Import raw SAP datasets and required Python libraries.  \n",
    "\n",
    "**2. Clean Each DataFrame**  \n",
    "- Remove unnecessary columns  \n",
    "- Handle missing values  \n",
    "- Standardize column names  \n",
    "- Filter relevant data  \n",
    "\n",
    "**3. DataFrame Interactions**  \n",
    "- Add last maintenance year  \n",
    "- Calculate equipment age  \n",
    "- Identify decommissioning requests  \n",
    "\n",
    "**5. Save Cleaned Data**  \n",
    "- Export structured DataFrames for easy re-importing  \n",
    "\n",
    "**Modular Functions**  \n",
    "Cleaning functions are in `data_cleaning_utils.py` for reusability.  \n",
    "\n",
    "This ensures an efficient, reproducible cleaning process for accurate insights.\n"
   ]
  },
  {
   "cell_type": "markdown",
   "metadata": {},
   "source": [
    "## Part 1: Load DataFrames and Import Libraries\n",
    "\n",
    "\n",
    "\n",
    "\n",
    "\n"
   ]
  },
  {
   "cell_type": "code",
   "execution_count": 57,
   "metadata": {},
   "outputs": [
    {
     "name": "stdout",
     "output_type": "stream",
     "text": [
      "The autoreload extension is already loaded. To reload it, use:\n",
      "  %reload_ext autoreload\n"
     ]
    }
   ],
   "source": [
    "%load_ext autoreload\n",
    "%autoreload 2\n",
    "\n",
    "import importlib\n",
    "import pandas as pd \n",
    "import data_cleaning_utils as f\n",
    "import os\n",
    "from tabulate import tabulate\n",
    "importlib.reload(f)\n",
    "import numpy as  np"
   ]
  },
  {
   "cell_type": "code",
   "execution_count": 58,
   "metadata": {},
   "outputs": [
    {
     "name": "stdout",
     "output_type": "stream",
     "text": [
      "File loading completed.\n"
     ]
    }
   ],
   "source": [
    "# Define the folder where the files are located\n",
    "folder_name = \"DF_original\"\n",
    "\n",
    "# List of base names for the DataFrames\n",
    "df_names = {\n",
    "    \"df_equipment\",\n",
    "    \"df_orders\",\n",
    "    \"df_equipment_decomission_request\",\n",
    "    \"df_storage\",\n",
    "    \"df_dolar\"    \n",
    "}\n",
    "\n",
    "# Dynamically load the DataFrames and assign them as individual variables\n",
    "\n",
    "for name in df_names:\n",
    "    file_path = os.path.join(\"../\",folder_name, f\"{name}.csv\")\n",
    "    globals()[name] = pd.read_csv(file_path)\n",
    "\n",
    "print(\"File loading completed.\")\n"
   ]
  },
  {
   "cell_type": "markdown",
   "metadata": {},
   "source": [
    "## Part 2: Cleaning Each DataFrame Separately"
   ]
  },
  {
   "cell_type": "markdown",
   "metadata": {},
   "source": [
    "Each DataFrame is cleaned separately by:\n",
    "\n",
    "- Running the basic_data_checks function to identify and handle missing values, duplicates, and constant columns.\n",
    "- Dropping unnecessary columns to keep only relevant data.\n",
    "- Standardizing column names for consistency across DataFrames.\n",
    "- Performing additional transformations as needed to prepare the data for analysis."
   ]
  },
  {
   "cell_type": "markdown",
   "metadata": {},
   "source": [
    "### Cleaning Storage DataFrame\n"
   ]
  },
  {
   "cell_type": "markdown",
   "metadata": {},
   "source": [
    "This DataFrame contains key information related to storage locations in hospitals, including:\n",
    "\n",
    "- Center Name: Full name of the hospital.\n",
    "- Hospital Name: A simplified hospital name used for merging with other DataFrames.\n",
    "- Storage Data: Storage unit number.\n",
    "- Responsible Hospital: The individual assigned to manage the storage unit.\n",
    "\n",
    "These fields are cleaned and standardized to ensure compatibility with other datasets during merging."
   ]
  },
  {
   "cell_type": "code",
   "execution_count": 59,
   "metadata": {},
   "outputs": [
    {
     "data": {
      "text/html": [
       "<div>\n",
       "<style scoped>\n",
       "    .dataframe tbody tr th:only-of-type {\n",
       "        vertical-align: middle;\n",
       "    }\n",
       "\n",
       "    .dataframe tbody tr th {\n",
       "        vertical-align: top;\n",
       "    }\n",
       "\n",
       "    .dataframe thead th {\n",
       "        text-align: right;\n",
       "    }\n",
       "</style>\n",
       "<table border=\"1\" class=\"dataframe\">\n",
       "  <thead>\n",
       "    <tr style=\"text-align: right;\">\n",
       "      <th></th>\n",
       "      <th>Responsible</th>\n",
       "      <th>Storage</th>\n",
       "      <th>Hospital</th>\n",
       "    </tr>\n",
       "  </thead>\n",
       "  <tbody>\n",
       "    <tr>\n",
       "      <th>0</th>\n",
       "      <td>R3</td>\n",
       "      <td>A3</td>\n",
       "      <td>H2</td>\n",
       "    </tr>\n",
       "    <tr>\n",
       "      <th>1</th>\n",
       "      <td>R3</td>\n",
       "      <td>A3</td>\n",
       "      <td>H42</td>\n",
       "    </tr>\n",
       "    <tr>\n",
       "      <th>2</th>\n",
       "      <td>R7</td>\n",
       "      <td>A7</td>\n",
       "      <td>H6</td>\n",
       "    </tr>\n",
       "    <tr>\n",
       "      <th>3</th>\n",
       "      <td>R1</td>\n",
       "      <td>A1</td>\n",
       "      <td>H31</td>\n",
       "    </tr>\n",
       "    <tr>\n",
       "      <th>4</th>\n",
       "      <td>R1</td>\n",
       "      <td>A1</td>\n",
       "      <td>H22</td>\n",
       "    </tr>\n",
       "  </tbody>\n",
       "</table>\n",
       "</div>"
      ],
      "text/plain": [
       "  Responsible Storage Hospital\n",
       "0          R3      A3       H2\n",
       "1          R3      A3      H42\n",
       "2          R7      A7       H6\n",
       "3          R1      A1      H31\n",
       "4          R1      A1      H22"
      ]
     },
     "execution_count": 59,
     "metadata": {},
     "output_type": "execute_result"
    }
   ],
   "source": [
    "df_storage.head()"
   ]
  },
  {
   "cell_type": "code",
   "execution_count": 60,
   "metadata": {},
   "outputs": [
    {
     "name": "stdout",
     "output_type": "stream",
     "text": [
      "Initial DataFrame shape: (52, 3)\n",
      "Total missing values in the DataFrame: 16\n",
      "Missing values per column:\n",
      "Storage     15\n",
      "Hospital     1\n",
      "dtype: int64\n",
      "No duplicate rows found in the DataFrame.\n",
      "\n",
      "Data types of columns:\n",
      "Responsible    object\n",
      "Storage        object\n",
      "Hospital       object\n",
      "dtype: object\n"
     ]
    }
   ],
   "source": [
    "df_storage = f.basic_data_checks(df_storage)"
   ]
  },
  {
   "cell_type": "markdown",
   "metadata": {},
   "source": [
    "### **Cleaning Decommission Request DataFrame**\n"
   ]
  },
  {
   "cell_type": "markdown",
   "metadata": {},
   "source": [
    "This DataFrame contains information about equipment for which a formal decommissioning request has been submitted.  \n",
    "By analyzing this data, we can verify whether any of these decommissioned devices are still present in the active equipment database.\n",
    "\n",
    "Although the dataset contains extensive information, we are specifically interested in the following fields:\n",
    "\n",
    "- **Equipment_ID:** Unique identifier for each piece of equipment (renamed from `Title` for consistency).  \n",
    "- **Created:** Date when the decommissioning request was submitted.  \n",
    "- **Modified:** Date when the equipment's status was last updated.  \n",
    "- **Status:** Current status of the equipment in the decommissioning process."
   ]
  },
  {
   "cell_type": "code",
   "execution_count": 61,
   "metadata": {},
   "outputs": [
    {
     "data": {
      "text/html": [
       "<div>\n",
       "<style scoped>\n",
       "    .dataframe tbody tr th:only-of-type {\n",
       "        vertical-align: middle;\n",
       "    }\n",
       "\n",
       "    .dataframe tbody tr th {\n",
       "        vertical-align: top;\n",
       "    }\n",
       "\n",
       "    .dataframe thead th {\n",
       "        text-align: right;\n",
       "    }\n",
       "</style>\n",
       "<table border=\"1\" class=\"dataframe\">\n",
       "  <thead>\n",
       "    <tr style=\"text-align: right;\">\n",
       "      <th></th>\n",
       "      <th>Equipment_ID</th>\n",
       "      <th>Created</th>\n",
       "      <th>Modified</th>\n",
       "      <th>Status</th>\n",
       "    </tr>\n",
       "  </thead>\n",
       "  <tbody>\n",
       "    <tr>\n",
       "      <th>0</th>\n",
       "      <td>NaN</td>\n",
       "      <td>2022-11-09 10:00:31</td>\n",
       "      <td>2022-11-09 11:57:41</td>\n",
       "      <td>Finalizado</td>\n",
       "    </tr>\n",
       "    <tr>\n",
       "      <th>1</th>\n",
       "      <td>NaN</td>\n",
       "      <td>2022-11-09 10:04:27</td>\n",
       "      <td>2022-12-28 16:27:09</td>\n",
       "      <td>Finalizado</td>\n",
       "    </tr>\n",
       "  </tbody>\n",
       "</table>\n",
       "</div>"
      ],
      "text/plain": [
       "  Equipment_ID              Created             Modified      Status\n",
       "0          NaN  2022-11-09 10:00:31  2022-11-09 11:57:41  Finalizado\n",
       "1          NaN  2022-11-09 10:04:27  2022-12-28 16:27:09  Finalizado"
      ]
     },
     "execution_count": 61,
     "metadata": {},
     "output_type": "execute_result"
    }
   ],
   "source": [
    "df_equipment_decomission_request.head(2)"
   ]
  },
  {
   "cell_type": "markdown",
   "metadata": {},
   "source": [
    "We observed that some records in the **'Status'** column have missing values.  \n",
    "This may indicate that the decommissioning request has not yet been reviewed or initiated.  "
   ]
  },
  {
   "cell_type": "markdown",
   "metadata": {},
   "source": [
    "### **Cleaning Orders DataFrame**"
   ]
  },
  {
   "cell_type": "markdown",
   "metadata": {},
   "source": [
    "This DataFrame contains information about maintenance and service orders assigned to medical equipment.  \n",
    "When a **healthcare professional** (e.g., doctor or nurse) reports an issue requiring technical assistance, an **ICOR** order is generated.  \n",
    "Additional orders may be created for **preventive maintenance (IPRV)** and **third-party service agreements (IABN).**\n",
    "\n",
    "#### **Relevant Columns:**\n",
    "- **Order:** Unique identifier for each service request.  \n",
    "- **Class:** Type of order (ICOR, IPRV, IABN).  \n",
    "- **Equipment_ID:** Unique identifier of the equipment.  \n",
    "- **Execution Date → Year:** Original execution date, converted to **year format**.  \n",
    "- **Cost:** Cost of the order in USD.\n",
    "\n",
    "#### **Filtering Criteria:**\n",
    "We are only interested in:\n",
    "- Orders that are linked to a valid **equipment ID**.  \n",
    "- Orders where the **technical location** (`Ubicac.técnica`) starts with \"IC\".  \n",
    "\n",
    "This filtering ensures that only relevant maintenance records are considered in the analysis."
   ]
  },
  {
   "cell_type": "code",
   "execution_count": 62,
   "metadata": {},
   "outputs": [],
   "source": [
    "#drop na\n",
    "df_orders = df_orders.dropna(subset=['Equipment_ID'])"
   ]
  },
  {
   "cell_type": "code",
   "execution_count": 63,
   "metadata": {},
   "outputs": [
    {
     "data": {
      "text/html": [
       "<div>\n",
       "<style scoped>\n",
       "    .dataframe tbody tr th:only-of-type {\n",
       "        vertical-align: middle;\n",
       "    }\n",
       "\n",
       "    .dataframe tbody tr th {\n",
       "        vertical-align: top;\n",
       "    }\n",
       "\n",
       "    .dataframe thead th {\n",
       "        text-align: right;\n",
       "    }\n",
       "</style>\n",
       "<table border=\"1\" class=\"dataframe\">\n",
       "  <thead>\n",
       "    <tr style=\"text-align: right;\">\n",
       "      <th></th>\n",
       "      <th>Day</th>\n",
       "      <th>Value</th>\n",
       "    </tr>\n",
       "  </thead>\n",
       "  <tbody>\n",
       "    <tr>\n",
       "      <th>0</th>\n",
       "      <td>2011-01-03</td>\n",
       "      <td>4.11</td>\n",
       "    </tr>\n",
       "    <tr>\n",
       "      <th>1</th>\n",
       "      <td>2011-01-04</td>\n",
       "      <td>4.12</td>\n",
       "    </tr>\n",
       "  </tbody>\n",
       "</table>\n",
       "</div>"
      ],
      "text/plain": [
       "          Day  Value\n",
       "0  2011-01-03   4.11\n",
       "1  2011-01-04   4.12"
      ]
     },
     "execution_count": 63,
     "metadata": {},
     "output_type": "execute_result"
    }
   ],
   "source": [
    "df_dolar.head(2)"
   ]
  },
  {
   "cell_type": "code",
   "execution_count": 64,
   "metadata": {},
   "outputs": [],
   "source": [
    "## Use the function to add the \"Dollar price of the day\" column\n",
    "df_orders = f.add_dollar_day_price(df_orders, df_dolar,date_col_main=\"Year\", \n",
    "                         date_col_dolar=\"Day\", \n",
    "                         price_col_dolar=\"Value\",\n",
    "                         new_col='Dollar_day_price')"
   ]
  },
  {
   "cell_type": "code",
   "execution_count": 65,
   "metadata": {},
   "outputs": [
    {
     "data": {
      "text/plain": [
       "Index(['Order', 'Class', 'Year', 'Equipment_ID', 'Cost', 'Day', 'Value',\n",
       "       'Dollar_day_price'],\n",
       "      dtype='object')"
      ]
     },
     "execution_count": 65,
     "metadata": {},
     "output_type": "execute_result"
    }
   ],
   "source": [
    "df_orders.columns"
   ]
  },
  {
   "cell_type": "code",
   "execution_count": 66,
   "metadata": {},
   "outputs": [
    {
     "data": {
      "text/html": [
       "<div>\n",
       "<style scoped>\n",
       "    .dataframe tbody tr th:only-of-type {\n",
       "        vertical-align: middle;\n",
       "    }\n",
       "\n",
       "    .dataframe tbody tr th {\n",
       "        vertical-align: top;\n",
       "    }\n",
       "\n",
       "    .dataframe thead th {\n",
       "        text-align: right;\n",
       "    }\n",
       "</style>\n",
       "<table border=\"1\" class=\"dataframe\">\n",
       "  <thead>\n",
       "    <tr style=\"text-align: right;\">\n",
       "      <th></th>\n",
       "      <th>Order</th>\n",
       "      <th>Class</th>\n",
       "      <th>Year</th>\n",
       "      <th>Equipment_ID</th>\n",
       "      <th>Cost</th>\n",
       "      <th>Day</th>\n",
       "      <th>Value</th>\n",
       "      <th>Dollar_day_price</th>\n",
       "    </tr>\n",
       "  </thead>\n",
       "  <tbody>\n",
       "    <tr>\n",
       "      <th>0</th>\n",
       "      <td>9000002</td>\n",
       "      <td>ICOR</td>\n",
       "      <td>2008-01-12</td>\n",
       "      <td>T11-VS-SVYS</td>\n",
       "      <td>0.000</td>\n",
       "      <td>2011-01-02</td>\n",
       "      <td>4.13</td>\n",
       "      <td>3.0</td>\n",
       "    </tr>\n",
       "    <tr>\n",
       "      <th>1</th>\n",
       "      <td>9000001</td>\n",
       "      <td>ICOR</td>\n",
       "      <td>2008-01-17</td>\n",
       "      <td>T84-UCU</td>\n",
       "      <td>15957.297</td>\n",
       "      <td>2011-01-02</td>\n",
       "      <td>4.13</td>\n",
       "      <td>3.0</td>\n",
       "    </tr>\n",
       "  </tbody>\n",
       "</table>\n",
       "</div>"
      ],
      "text/plain": [
       "     Order Class       Year Equipment_ID       Cost        Day  Value  \\\n",
       "0  9000002  ICOR 2008-01-12  T11-VS-SVYS      0.000 2011-01-02   4.13   \n",
       "1  9000001  ICOR 2008-01-17      T84-UCU  15957.297 2011-01-02   4.13   \n",
       "\n",
       "   Dollar_day_price  \n",
       "0               3.0  \n",
       "1               3.0  "
      ]
     },
     "execution_count": 66,
     "metadata": {},
     "output_type": "execute_result"
    }
   ],
   "source": [
    "df_orders.head(2)"
   ]
  },
  {
   "cell_type": "code",
   "execution_count": 67,
   "metadata": {},
   "outputs": [],
   "source": [
    "df_orders['Cost_in_dollar'] = (df_orders['Cost'] / df_orders['Dollar_day_price']).round(1)\n"
   ]
  },
  {
   "cell_type": "code",
   "execution_count": 68,
   "metadata": {},
   "outputs": [],
   "source": [
    "df_orders.drop(columns=['Order'], inplace=True)"
   ]
  },
  {
   "cell_type": "code",
   "execution_count": 69,
   "metadata": {},
   "outputs": [
    {
     "data": {
      "text/html": [
       "<div>\n",
       "<style scoped>\n",
       "    .dataframe tbody tr th:only-of-type {\n",
       "        vertical-align: middle;\n",
       "    }\n",
       "\n",
       "    .dataframe tbody tr th {\n",
       "        vertical-align: top;\n",
       "    }\n",
       "\n",
       "    .dataframe thead th {\n",
       "        text-align: right;\n",
       "    }\n",
       "</style>\n",
       "<table border=\"1\" class=\"dataframe\">\n",
       "  <thead>\n",
       "    <tr style=\"text-align: right;\">\n",
       "      <th></th>\n",
       "      <th>Class</th>\n",
       "      <th>Year</th>\n",
       "      <th>Equipment_ID</th>\n",
       "      <th>Cost</th>\n",
       "      <th>Day</th>\n",
       "      <th>Value</th>\n",
       "      <th>Dollar_day_price</th>\n",
       "      <th>Cost_in_dollar</th>\n",
       "    </tr>\n",
       "  </thead>\n",
       "  <tbody>\n",
       "    <tr>\n",
       "      <th>0</th>\n",
       "      <td>ICOR</td>\n",
       "      <td>2008-01-12</td>\n",
       "      <td>T11-VS-SVYS</td>\n",
       "      <td>0.000</td>\n",
       "      <td>2011-01-02</td>\n",
       "      <td>4.13</td>\n",
       "      <td>3.0</td>\n",
       "      <td>0.0</td>\n",
       "    </tr>\n",
       "    <tr>\n",
       "      <th>1</th>\n",
       "      <td>ICOR</td>\n",
       "      <td>2008-01-17</td>\n",
       "      <td>T84-UCU</td>\n",
       "      <td>15957.297</td>\n",
       "      <td>2011-01-02</td>\n",
       "      <td>4.13</td>\n",
       "      <td>3.0</td>\n",
       "      <td>5319.1</td>\n",
       "    </tr>\n",
       "  </tbody>\n",
       "</table>\n",
       "</div>"
      ],
      "text/plain": [
       "  Class       Year Equipment_ID       Cost        Day  Value  \\\n",
       "0  ICOR 2008-01-12  T11-VS-SVYS      0.000 2011-01-02   4.13   \n",
       "1  ICOR 2008-01-17      T84-UCU  15957.297 2011-01-02   4.13   \n",
       "\n",
       "   Dollar_day_price  Cost_in_dollar  \n",
       "0               3.0             0.0  \n",
       "1               3.0          5319.1  "
      ]
     },
     "execution_count": 69,
     "metadata": {},
     "output_type": "execute_result"
    }
   ],
   "source": [
    "df_orders.head(2)"
   ]
  },
  {
   "cell_type": "code",
   "execution_count": 70,
   "metadata": {},
   "outputs": [
    {
     "name": "stdout",
     "output_type": "stream",
     "text": [
      "Initial DataFrame shape: (106609, 8)\n",
      "No missing values found in the DataFrame.\n",
      "Found 3648 duplicate rows in the DataFrame.\n",
      "Duplicates removed.\n",
      "New DataFrame shape: (102961, 8)\n",
      "\n",
      "Data types of columns:\n",
      "Class                       object\n",
      "Year                         int32\n",
      "Equipment_ID                object\n",
      "Cost                       float64\n",
      "Day                 datetime64[ns]\n",
      "Value                      float64\n",
      "Dollar_day_price           float64\n",
      "Cost_in_dollar             float64\n",
      "dtype: object\n"
     ]
    }
   ],
   "source": [
    "\n",
    "## Drop rows with missing equipment values\n",
    "# Ensuring only orders with assigned equipment are kept\n",
    "#df_orders.dropna(subset=[\"Equipment_ID\"], inplace=True)\n",
    "\n",
    "## Convert date to year format\n",
    "# Ensuring 'Year' column contains only the year extracted from the date\n",
    "df_orders[\"Year\"] = pd.to_datetime(df_orders[\"Year\"], errors=\"coerce\").dt.year\n",
    "\n",
    "## Perform basic data checks\n",
    "# Running the function to check for missing values, duplicates, and data consistency\n",
    "df_orders = f.basic_data_checks(df_orders, remove_duplicates=True)"
   ]
  },
  {
   "cell_type": "markdown",
   "metadata": {},
   "source": [
    "Now I want to add a column for the case that the order needed a repair (Cost > 0) and those that didnt"
   ]
  },
  {
   "cell_type": "code",
   "execution_count": 71,
   "metadata": {},
   "outputs": [],
   "source": [
    "# Add a new column \"OrderWithRepair\" that is True if \"Costo\" > 0, otherwise False\n",
    "df_orders_icor = df_orders[df_orders[\"Class\"] == \"ICOR\"]\n",
    "df_orders[\"OrderWithRepair\"] = df_orders_icor[\"Cost\"] > 0\n",
    "\n"
   ]
  },
  {
   "cell_type": "markdown",
   "metadata": {},
   "source": [
    "### **Cleaning equipment DataFrame**"
   ]
  },
  {
   "cell_type": "markdown",
   "metadata": {},
   "source": [
    "\n",
    "This DataFrame contains detailed information about medical equipment. The following fields have been selected and renamed to ensure consistency across datasets:\n",
    "**Relevant Columns:**\n",
    "- **Equipment_ID:** Unique identifier for each equipment item.  \n",
    "- **Description:** General description of the equipment.  \n",
    "- **Type:** Equipment category.  \n",
    "- **Subtype:** Subcategory within the equipment type.  \n",
    "- **Manufacturer:** Name of the equipment manufacturer.  \n",
    "- **Model:** Equipment model.  \n",
    "- **Serial_number:** Equipment serial number.  \n",
    "- **ABC:** Inventory classification based on management principles.  \n",
    "- **Purchase_value:** Original purchase value of the equipment.  \n",
    "- **UT:** Internal code used to derive the responsible entity (EC or IC), hospital, and department.  \n",
    "- **Purchase_date → Purchase_year:** The year the equipment was acquired. If missing, it is set to **2005**, as the acquisition occurred before the system’s implementation in 2008.  \n",
    "- **UT_info:** Additional details extracted from the UT code.  \n",
    "- **Device_status:** Operational status of the equipment.  \n",
    "- **System_status:** System-defined status assigned to the equipment.  \n",
    "\n",
    "The cleaning process standardizes formats, fills missing values (such as purchase year), and extracts relevant fields from **UT** to support further analysis.\n"
   ]
  },
  {
   "cell_type": "code",
   "execution_count": 72,
   "metadata": {},
   "outputs": [
    {
     "data": {
      "text/html": [
       "<div>\n",
       "<style scoped>\n",
       "    .dataframe tbody tr th:only-of-type {\n",
       "        vertical-align: middle;\n",
       "    }\n",
       "\n",
       "    .dataframe tbody tr th {\n",
       "        vertical-align: top;\n",
       "    }\n",
       "\n",
       "    .dataframe thead th {\n",
       "        text-align: right;\n",
       "    }\n",
       "</style>\n",
       "<table border=\"1\" class=\"dataframe\">\n",
       "  <thead>\n",
       "    <tr style=\"text-align: right;\">\n",
       "      <th></th>\n",
       "      <th>Equipment_ID</th>\n",
       "      <th>Type</th>\n",
       "      <th>Subtype</th>\n",
       "      <th>Serial_number</th>\n",
       "      <th>ABC</th>\n",
       "      <th>Purchase_value</th>\n",
       "      <th>Purchase_date</th>\n",
       "      <th>Device_status</th>\n",
       "      <th>Responsible</th>\n",
       "      <th>Hospital</th>\n",
       "      <th>Department</th>\n",
       "      <th>Manufacturer</th>\n",
       "      <th>Model</th>\n",
       "    </tr>\n",
       "  </thead>\n",
       "  <tbody>\n",
       "    <tr>\n",
       "      <th>0</th>\n",
       "      <td>St12-ITYWKVTK</td>\n",
       "      <td>NaN</td>\n",
       "      <td>St12</td>\n",
       "      <td>ITYWKVTK</td>\n",
       "      <td>NaN</td>\n",
       "      <td>0.0</td>\n",
       "      <td>NaN</td>\n",
       "      <td>Normal</td>\n",
       "      <td>Re1</td>\n",
       "      <td>H5</td>\n",
       "      <td>Sec15</td>\n",
       "      <td>F97</td>\n",
       "      <td>M73</td>\n",
       "    </tr>\n",
       "  </tbody>\n",
       "</table>\n",
       "</div>"
      ],
      "text/plain": [
       "    Equipment_ID Type Subtype Serial_number  ABC  Purchase_value  \\\n",
       "0  St12-ITYWKVTK  NaN    St12      ITYWKVTK  NaN             0.0   \n",
       "\n",
       "  Purchase_date Device_status Responsible Hospital Department Manufacturer  \\\n",
       "0           NaN        Normal         Re1       H5      Sec15          F97   \n",
       "\n",
       "  Model  \n",
       "0   M73  "
      ]
     },
     "execution_count": 72,
     "metadata": {},
     "output_type": "execute_result"
    }
   ],
   "source": [
    "df_equipment.head(1)"
   ]
  },
  {
   "cell_type": "code",
   "execution_count": 73,
   "metadata": {},
   "outputs": [],
   "source": [
    "## Convert date columns to datetime format\n",
    "# Ensuring proper date format and handling errors by coercing invalid values to NaT\n",
    "df_equipment[\"Purchase_date\"] = pd.to_datetime(df_equipment[\"Purchase_date\"], errors=\"coerce\")\n",
    "\n",
    "## Extract year from dates\n",
    "# Replacing missing purchase years with 2005, as these items were acquired before the database was created in 2008\n",
    "df_equipment[\"Purchase_year\"] = df_equipment[\"Purchase_date\"].dt.year.fillna(2005).astype(int)\n",
    "\n",
    "#Those with year prior to 2005 lets put it as 2005 as well \n",
    "\n",
    "df_equipment[\"Purchase_year\"] = df_equipment[\"Purchase_date\"].dt.year.fillna(2005).astype(int)\n",
    "\n",
    "\n",
    "\n",
    "## Drop original date columns\n",
    "# Removing full date columns as only the year is needed for analysis\n",
    "df_equipment.drop(columns=[\"Purchase_date\"], inplace=True)\n"
   ]
  },
  {
   "cell_type": "code",
   "execution_count": 74,
   "metadata": {},
   "outputs": [
    {
     "name": "stdout",
     "output_type": "stream",
     "text": [
      "Initial DataFrame shape: (14591, 13)\n",
      "Total missing values in the DataFrame: 1353\n",
      "Missing values per column:\n",
      "Type               2\n",
      "Subtype           39\n",
      "Serial_number     11\n",
      "ABC               44\n",
      "Responsible      227\n",
      "Hospital         248\n",
      "Department       675\n",
      "Manufacturer       2\n",
      "Model            105\n",
      "dtype: int64\n",
      "No duplicate rows found in the DataFrame.\n",
      "\n",
      "Data types of columns:\n",
      "Equipment_ID       object\n",
      "Type               object\n",
      "Subtype            object\n",
      "Serial_number      object\n",
      "ABC                object\n",
      "Purchase_value    float64\n",
      "Device_status      object\n",
      "Responsible        object\n",
      "Hospital           object\n",
      "Department         object\n",
      "Manufacturer       object\n",
      "Model              object\n",
      "Purchase_year       int32\n",
      "dtype: object\n"
     ]
    }
   ],
   "source": [
    "df_equipment = f.basic_data_checks(df_equipment)"
   ]
  },
  {
   "cell_type": "markdown",
   "metadata": {},
   "source": [
    "During the data cleaning process, we identified several missing values across different columns.  \n",
    "This highlights **inconsistencies and gaps in the database**, indicating issues in how equipment data is recorded and maintained.  "
   ]
  },
  {
   "cell_type": "markdown",
   "metadata": {},
   "source": [
    "#### **Critical Missing Data: Hospital Field**\n",
    "\n",
    "One of the most relevant missing data cases is in the **Hospital** field.  \n",
    "Every piece of equipment should have a **Hospital** assigned, as it indicates its location and responsibility.  \n",
    "\n",
    "After consultation, we confirmed that **equipment marked for system removal had their Hospital removed**.  \n",
    "This suggests that missing Hospital values may correspond to equipment that was supposed to be decommissioned but still appears in the database.  \n",
    "\n",
    "This inconsistency should be addressed to ensure accurate tracking and reporting.\n"
   ]
  },
  {
   "cell_type": "code",
   "execution_count": 75,
   "metadata": {},
   "outputs": [],
   "source": [
    "df_equipment_missing_hospital = df_equipment[df_equipment['Hospital'].isnull()]"
   ]
  },
  {
   "cell_type": "markdown",
   "metadata": {},
   "source": [
    "### **Incorrect Purchase Year Detected**\n",
    "\n",
    "During data validation, we identified an equipment entry with a **purchase year of 2201**, which is clearly an error.  \n",
    "To correct this, we will **replace it with 2017**, a reasonable estimate, to avoid inconsistencies in the analysis.  \n"
   ]
  },
  {
   "cell_type": "code",
   "execution_count": 76,
   "metadata": {},
   "outputs": [
    {
     "data": {
      "text/plain": [
       "<bound method Series.sort_index of Purchase_year\n",
       "2012    1855\n",
       "2008    1721\n",
       "2005    1250\n",
       "2014    1248\n",
       "2013    1215\n",
       "2017     949\n",
       "2018     897\n",
       "2015     852\n",
       "2024     770\n",
       "2016     626\n",
       "2011     608\n",
       "2019     512\n",
       "2023     501\n",
       "2020     464\n",
       "2022     270\n",
       "2010     251\n",
       "2021     249\n",
       "2009     213\n",
       "2025      79\n",
       "2007      52\n",
       "2000       7\n",
       "2006       1\n",
       "2201       1\n",
       "Name: count, dtype: int64>"
      ]
     },
     "execution_count": 76,
     "metadata": {},
     "output_type": "execute_result"
    }
   ],
   "source": [
    "df_equipment[\"Purchase_year\"].value_counts().sort_index"
   ]
  },
  {
   "cell_type": "code",
   "execution_count": 77,
   "metadata": {},
   "outputs": [
    {
     "data": {
      "text/html": [
       "<div>\n",
       "<style scoped>\n",
       "    .dataframe tbody tr th:only-of-type {\n",
       "        vertical-align: middle;\n",
       "    }\n",
       "\n",
       "    .dataframe tbody tr th {\n",
       "        vertical-align: top;\n",
       "    }\n",
       "\n",
       "    .dataframe thead th {\n",
       "        text-align: right;\n",
       "    }\n",
       "</style>\n",
       "<table border=\"1\" class=\"dataframe\">\n",
       "  <thead>\n",
       "    <tr style=\"text-align: right;\">\n",
       "      <th></th>\n",
       "      <th>Equipment_ID</th>\n",
       "      <th>Type</th>\n",
       "      <th>Subtype</th>\n",
       "      <th>Serial_number</th>\n",
       "      <th>ABC</th>\n",
       "      <th>Purchase_value</th>\n",
       "      <th>Device_status</th>\n",
       "      <th>Responsible</th>\n",
       "      <th>Hospital</th>\n",
       "      <th>Department</th>\n",
       "      <th>Manufacturer</th>\n",
       "      <th>Model</th>\n",
       "      <th>Purchase_year</th>\n",
       "    </tr>\n",
       "  </thead>\n",
       "  <tbody>\n",
       "    <tr>\n",
       "      <th>4807</th>\n",
       "      <td>T115-UWVWVF</td>\n",
       "      <td>T115</td>\n",
       "      <td>St23</td>\n",
       "      <td>UWVWVF</td>\n",
       "      <td>C</td>\n",
       "      <td>495.0</td>\n",
       "      <td>Normal</td>\n",
       "      <td>Re1</td>\n",
       "      <td>H34</td>\n",
       "      <td>Sec8</td>\n",
       "      <td>F30</td>\n",
       "      <td>M504</td>\n",
       "      <td>2201</td>\n",
       "    </tr>\n",
       "  </tbody>\n",
       "</table>\n",
       "</div>"
      ],
      "text/plain": [
       "     Equipment_ID  Type Subtype Serial_number ABC  Purchase_value  \\\n",
       "4807  T115-UWVWVF  T115    St23        UWVWVF   C           495.0   \n",
       "\n",
       "     Device_status Responsible Hospital Department Manufacturer Model  \\\n",
       "4807        Normal         Re1      H34       Sec8          F30  M504   \n",
       "\n",
       "      Purchase_year  \n",
       "4807           2201  "
      ]
     },
     "execution_count": 77,
     "metadata": {},
     "output_type": "execute_result"
    }
   ],
   "source": [
    "df_equipment[df_equipment[\"Purchase_year\"] == 2201]"
   ]
  },
  {
   "cell_type": "code",
   "execution_count": 78,
   "metadata": {},
   "outputs": [],
   "source": [
    "df_equipment.loc[df_equipment[\"Purchase_year\"] == 2201, \"Purchase_year\"] = 2017"
   ]
  },
  {
   "cell_type": "markdown",
   "metadata": {},
   "source": [
    "Add Purchase_value to those that are 0"
   ]
  },
  {
   "cell_type": "code",
   "execution_count": 79,
   "metadata": {},
   "outputs": [],
   "source": [
    "promedio_por_Model = df_equipment[df_equipment['Purchase_value'] > 0].groupby('Model')['Purchase_value'].mean()\n",
    "    \n",
    "    # Fill in 0 values with the corresponding average\n",
    "df_equipment['Purchase_value'] = df_equipment.apply(\n",
    "        lambda row: promedio_por_Model[row['Model']] if row['Purchase_value'] == 0 and row['Model'] in promedio_por_Model else row['Purchase_value'], \n",
    "        axis=1\n",
    "    )"
   ]
  },
  {
   "cell_type": "markdown",
   "metadata": {},
   "source": [
    "## Part 3: Interaction Between Tables"
   ]
  },
  {
   "cell_type": "markdown",
   "metadata": {},
   "source": [
    "In this section, we enrich the **Equipment** and **Orders** DataFrames by integrating key information from other tables to support deeper analysis.\n",
    "\n",
    "### **Steps:**\n",
    "\n",
    "1. **Add the Year of the Last Order**  \n",
    "   - Extracted from the **Orders** DataFrame.  \n",
    "   - Enables tracking of the most recent maintenance activity or reported issue for each equipment item.\n",
    "   - If NAN, we assign 2000  \n",
    "\n",
    "2. **Calculate Equipment Age at the Time of the Order**  \n",
    "   - Computed as the difference between the **order year** and the **purchase year** (`Purchase_year`).  \n",
    "   - Useful for identifying maintenance patterns based on equipment age.  \n",
    "\n",
    "3. **Flag Equipment with Decommissioning Requests**  \n",
    "   - A new column is added to the **Equipment** DataFrame.  \n",
    "   - Indicates whether the equipment appears in the **Decommission Request** table.  \n",
    "\n",
    "These enhancements improve data completeness and provide valuable insights for equipment lifecycle and maintenance analysis.\n"
   ]
  },
  {
   "cell_type": "markdown",
   "metadata": {},
   "source": [
    "### **Add Column: Year of Last Order**  "
   ]
  },
  {
   "cell_type": "code",
   "execution_count": 80,
   "metadata": {},
   "outputs": [
    {
     "data": {
      "text/plain": [
       "Index(['Equipment_ID', 'Type', 'Subtype', 'Serial_number', 'ABC',\n",
       "       'Purchase_value', 'Device_status', 'Responsible', 'Hospital',\n",
       "       'Department', 'Manufacturer', 'Model', 'Purchase_year'],\n",
       "      dtype='object')"
      ]
     },
     "execution_count": 80,
     "metadata": {},
     "output_type": "execute_result"
    }
   ],
   "source": [
    "df_equipment.columns"
   ]
  },
  {
   "cell_type": "code",
   "execution_count": 81,
   "metadata": {},
   "outputs": [
    {
     "name": "stdout",
     "output_type": "stream",
     "text": [
      "    Equipment_ID  Last_order_year\n",
      "0  St12-ITYWKVTK             2024\n",
      "1       St9-UUWW             2000\n",
      "2       T8-GFVWU             2000\n",
      "3       T10-YYTF             2000\n",
      "4   T10-PIUIVFUW             2024\n"
     ]
    }
   ],
   "source": [
    "## Get the last recorded order year for each equipment\n",
    "# First, compute the maximum year of order per equipment in the 'Ordenes' DataFrame\n",
    "df_orders[\"Last_order_year\"] = df_orders.groupby(\"Equipment_ID\")[\"Year\"].transform(\"max\")\n",
    "\n",
    "# Create a summarized DataFrame containing only the latest order year per equipment\n",
    "df_ultima_orden = df_orders.groupby(\"Equipment_ID\")[\"Last_order_year\"].max().reset_index()\n",
    "\n",
    "## Merge the last order year into the Equipos DataFrame\n",
    "# Performing a left join to retain all equipment records, even those without an order\n",
    "df_equipment = df_equipment.merge(df_ultima_orden, on=\"Equipment_ID\", how=\"left\")\n",
    "\n",
    "## Handle missing values in 'Last_order_year'\n",
    "# If an equipment has no recorded orders, replace NaN with \"No orders\"\n",
    "df_equipment[\"Last_order_year\"] = df_equipment[\"Last_order_year\"].fillna(2000).astype(int)\n",
    "\n",
    "# Print verification sample\n",
    "print(df_equipment[[\"Equipment_ID\", \"Last_order_year\"]].head())\n",
    "\n",
    "## Convert the 'Last_order_year' column to a numeric type\n",
    "# This ensures consistency, forcing invalid entries to NaN for further handling\n",
    "df_equipment[\"Last_order_year\"] = pd.to_numeric(df_equipment[\"Last_order_year\"], errors=\"coerce\")\n"
   ]
  },
  {
   "cell_type": "code",
   "execution_count": 82,
   "metadata": {},
   "outputs": [
    {
     "data": {
      "text/plain": [
       "Index(['Equipment_ID', 'Type', 'Subtype', 'Serial_number', 'ABC',\n",
       "       'Purchase_value', 'Device_status', 'Responsible', 'Hospital',\n",
       "       'Department', 'Manufacturer', 'Model', 'Purchase_year',\n",
       "       'Last_order_year'],\n",
       "      dtype='object')"
      ]
     },
     "execution_count": 82,
     "metadata": {},
     "output_type": "execute_result"
    }
   ],
   "source": [
    "df_equipment.columns"
   ]
  },
  {
   "cell_type": "markdown",
   "metadata": {},
   "source": [
    "### **Add column: Equipment Age at the Time of the Order**  \n"
   ]
  },
  {
   "cell_type": "code",
   "execution_count": 83,
   "metadata": {},
   "outputs": [
    {
     "data": {
      "text/html": [
       "<div>\n",
       "<style scoped>\n",
       "    .dataframe tbody tr th:only-of-type {\n",
       "        vertical-align: middle;\n",
       "    }\n",
       "\n",
       "    .dataframe tbody tr th {\n",
       "        vertical-align: top;\n",
       "    }\n",
       "\n",
       "    .dataframe thead th {\n",
       "        text-align: right;\n",
       "    }\n",
       "</style>\n",
       "<table border=\"1\" class=\"dataframe\">\n",
       "  <thead>\n",
       "    <tr style=\"text-align: right;\">\n",
       "      <th></th>\n",
       "      <th>Class</th>\n",
       "      <th>Year</th>\n",
       "      <th>Equipment_ID</th>\n",
       "      <th>Cost</th>\n",
       "      <th>Day</th>\n",
       "      <th>Value</th>\n",
       "      <th>Dollar_day_price</th>\n",
       "      <th>Cost_in_dollar</th>\n",
       "      <th>OrderWithRepair</th>\n",
       "      <th>Last_order_year</th>\n",
       "      <th>Purchase_year</th>\n",
       "      <th>Equipment_age</th>\n",
       "    </tr>\n",
       "  </thead>\n",
       "  <tbody>\n",
       "    <tr>\n",
       "      <th>0</th>\n",
       "      <td>ICOR</td>\n",
       "      <td>2008</td>\n",
       "      <td>T11-VS-SVYS</td>\n",
       "      <td>0.000</td>\n",
       "      <td>2011-01-02</td>\n",
       "      <td>4.13</td>\n",
       "      <td>3.0</td>\n",
       "      <td>0.0</td>\n",
       "      <td>False</td>\n",
       "      <td>2015</td>\n",
       "      <td>2008</td>\n",
       "      <td>0</td>\n",
       "    </tr>\n",
       "    <tr>\n",
       "      <th>1</th>\n",
       "      <td>ICOR</td>\n",
       "      <td>2008</td>\n",
       "      <td>T84-UCU</td>\n",
       "      <td>15957.297</td>\n",
       "      <td>2011-01-02</td>\n",
       "      <td>4.13</td>\n",
       "      <td>3.0</td>\n",
       "      <td>5319.1</td>\n",
       "      <td>True</td>\n",
       "      <td>2021</td>\n",
       "      <td>2008</td>\n",
       "      <td>0</td>\n",
       "    </tr>\n",
       "    <tr>\n",
       "      <th>2</th>\n",
       "      <td>ICOR</td>\n",
       "      <td>2008</td>\n",
       "      <td>T52-UKV</td>\n",
       "      <td>0.000</td>\n",
       "      <td>2011-01-02</td>\n",
       "      <td>4.13</td>\n",
       "      <td>3.0</td>\n",
       "      <td>0.0</td>\n",
       "      <td>False</td>\n",
       "      <td>2022</td>\n",
       "      <td>2008</td>\n",
       "      <td>0</td>\n",
       "    </tr>\n",
       "  </tbody>\n",
       "</table>\n",
       "</div>"
      ],
      "text/plain": [
       "  Class  Year Equipment_ID       Cost        Day  Value  Dollar_day_price  \\\n",
       "0  ICOR  2008  T11-VS-SVYS      0.000 2011-01-02   4.13               3.0   \n",
       "1  ICOR  2008      T84-UCU  15957.297 2011-01-02   4.13               3.0   \n",
       "2  ICOR  2008      T52-UKV      0.000 2011-01-02   4.13               3.0   \n",
       "\n",
       "   Cost_in_dollar OrderWithRepair  Last_order_year  Purchase_year  \\\n",
       "0             0.0           False             2015           2008   \n",
       "1          5319.1            True             2021           2008   \n",
       "2             0.0           False             2022           2008   \n",
       "\n",
       "   Equipment_age  \n",
       "0              0  \n",
       "1              0  \n",
       "2              0  "
      ]
     },
     "execution_count": 83,
     "metadata": {},
     "output_type": "execute_result"
    }
   ],
   "source": [
    "## Create copies of original DataFrames to avoid modifying them directly\n",
    "df_orders2 = df_orders.copy()\n",
    "df_equipment2 = df_equipment.copy()\n",
    "\n",
    "## Merge 'Purchase_year' from df_equipment into df_orders\n",
    "# This allows us to calculate the equipment's age at the time of the order\n",
    "df_orders2 = df_orders2.merge(df_equipment2[['Equipment_ID', 'Purchase_year']], on='Equipment_ID', how='left')\n",
    "\n",
    "## Calculate equipment age at the time of the order\n",
    "# Subtracting the purchase year from the order year\n",
    "df_orders2['Equipment_age'] = df_orders2['Year'] - df_orders2['Purchase_year']\n",
    "\n",
    "## Display a preview of the updated DataFrame\n",
    "df_orders2.head(3)\n"
   ]
  },
  {
   "cell_type": "markdown",
   "metadata": {},
   "source": [
    "We observed that some equipment records in the **orders dataset** do not have a purchase year.  \n",
    "However, we already assigned a purchase year to all active equipment in the **Equipos** DataFrame.  \n",
    "\n",
    "This discrepancy occurs because maintenance orders are not only for **active equipment** but also for those that have already been **decommissioned**.  \n",
    "\n",
    "To address this, we will separate the datasets to distinguish between **orders for active equipment** and **orders for decommissioned equipment**.\n"
   ]
  },
  {
   "cell_type": "code",
   "execution_count": 84,
   "metadata": {
    "vscode": {
     "languageId": "powershell"
    }
   },
   "outputs": [],
   "source": [
    "## Separate orders for active and decommissioned equipment\n",
    "\n",
    "# Keep only orders where the equipment has a recorded purchase year (active equipment)\n",
    "df_orders = df_orders2[df_orders2['Purchase_year'].notna()]\n",
    "\n",
    "# Create a separate DataFrame for orders linked to decommissioned equipment (missing purchase year)\n",
    "df_orders_decommissioned = df_orders2[df_orders2['Purchase_year'].isna()]\n",
    "\n",
    "df_orders_all = df_orders2.copy()\n"
   ]
  },
  {
   "cell_type": "markdown",
   "metadata": {},
   "source": [
    "Lets do analize this new column"
   ]
  },
  {
   "cell_type": "code",
   "execution_count": 85,
   "metadata": {},
   "outputs": [
    {
     "data": {
      "text/plain": [
       "count    102961.000000\n",
       "mean          6.224658\n",
       "std           4.103337\n",
       "min         -11.000000\n",
       "25%           3.000000\n",
       "50%           6.000000\n",
       "75%           9.000000\n",
       "max          24.000000\n",
       "Name: Equipment_age, dtype: float64"
      ]
     },
     "execution_count": 85,
     "metadata": {},
     "output_type": "execute_result"
    }
   ],
   "source": [
    "df_orders[\"Equipment_age\"].describe() \n"
   ]
  },
  {
   "cell_type": "markdown",
   "metadata": {},
   "source": [
    "If its -1 it might be because of how we split the data, lets change those to 0 and eliminate the rest of the negative values"
   ]
  },
  {
   "cell_type": "code",
   "execution_count": 86,
   "metadata": {},
   "outputs": [
    {
     "data": {
      "text/plain": [
       "count    102860.000000\n",
       "mean          6.235962\n",
       "std           4.089587\n",
       "min           0.000000\n",
       "25%           3.000000\n",
       "50%           6.000000\n",
       "75%           9.000000\n",
       "max          24.000000\n",
       "Name: Equipment_age, dtype: float64"
      ]
     },
     "execution_count": 86,
     "metadata": {},
     "output_type": "execute_result"
    }
   ],
   "source": [
    "df_orders.loc[df_orders[\"Equipment_age\"] == -1, \"Equipment_age\"] = 0\n",
    "df_orders_all.loc[df_orders_all[\"Equipment_age\"] == -1, \"Equipment_age\"] = 0\n",
    "df_orders = df_orders[df_orders[\"Equipment_age\"] >= 0]\n",
    "df_orders_all = df_orders_all[df_orders_all[\"Equipment_age\"] >= 0]\n",
    "df_orders[\"Equipment_age\"].describe()\n"
   ]
  },
  {
   "cell_type": "markdown",
   "metadata": {},
   "source": [
    "### Add Column: Equipment with Decommissioning Request "
   ]
  },
  {
   "cell_type": "code",
   "execution_count": 88,
   "metadata": {},
   "outputs": [
    {
     "name": "stdout",
     "output_type": "stream",
     "text": [
      "    Equipment_ID  Decommission_request\n",
      "0  St12-ITYWKVTK                   0.0\n",
      "1       St9-UUWW                   0.0\n",
      "2       T8-GFVWU                   0.0\n",
      "3       T10-YYTF                   0.0\n",
      "4   T10-PIUIVFUW                   0.0\n"
     ]
    }
   ],
   "source": [
    "## Merge to Identify Equipment with a Decommissioning Request\n",
    "# Performing a left merge between 'df_equipment' and 'df_equipment_decomission_request' \n",
    "# to check which equipment appears in the decommissioned equipment dataset.\n",
    "df_equipment = df_equipment.merge(df_equipment_decomission_request[['Equipment_ID']], \n",
    "                              on='Equipment_ID', \n",
    "                              how='left', \n",
    "                              indicator=True)\n",
    "\n",
    "## Create a New Column to Indicate Decommissioning Request\n",
    "# Mapping the '_merge' column:\n",
    "# - \"both\" → Equipment exists in both datasets (has a decommissioning request) → 1\n",
    "# - \"left_only\" → Equipment exists only in 'df_equipment' (no decommissioning request) → 0\n",
    "df_equipment[\"Decommission_request\"] = df_equipment[\"_merge\"].map({\"both\": 1, \"left_only\": 0})\n",
    "\n",
    "## Remove the '_merge' Column\n",
    "# This column was generated by the merge and is no longer needed\n",
    "df_equipment.drop(columns=[\"_merge\"], inplace=True)\n",
    "\n",
    "## Create a Subset of Equipment with a Decommissioning Request\n",
    "# Filtering only the equipment that has a decommissioning request (Decommission_request == 1)\n",
    "df_equipment_with_decommission_request = df_equipment[df_equipment[\"Decommission_request\"] == 1]\n",
    "\n",
    "## Check the Shape of the New DataFrame\n",
    "df_equipment_with_decommission_request.shape\n",
    "\n",
    "## Verify the Output\n",
    "# Uncomment to inspect the first few rows with the new 'Decommission_request' column\n",
    "print(df_equipment[[\"Equipment_ID\", \"Decommission_request\"]].head())\n"
   ]
  },
  {
   "cell_type": "code",
   "execution_count": null,
   "metadata": {},
   "outputs": [],
   "source": []
  },
  {
   "cell_type": "markdown",
   "metadata": {},
   "source": [
    "## Part 5: Save the DataFrames and Import Process"
   ]
  },
  {
   "cell_type": "markdown",
   "metadata": {},
   "source": [
    "In this section, we finalize the cleaning and standardization process by **saving the cleaned DataFrames** for future analysis.  \n",
    "The saved files will be structured and formatted to ensure **easy re-importing** without requiring additional preprocessing.  \n"
   ]
  },
  {
   "cell_type": "code",
   "execution_count": 109,
   "metadata": {},
   "outputs": [
    {
     "name": "stdout",
     "output_type": "stream",
     "text": [
      "Export process completed successfully.\n"
     ]
    }
   ],
   "source": [
    "import os\n",
    "\n",
    "## Create a folder for storing cleaned DataFrames\n",
    "# Ensures the directory 'DF_cleaned' exists before saving files\n",
    "folder_name = \"DF_cleaned\"\n",
    "\n",
    "## Dictionary containing the DataFrames to be exported\n",
    "dfs = {\n",
    "    \"df_equipment\": df_equipment,\n",
    "    \"df_orders\": df_orders,\n",
    "    \"df_orders_decommissioned\": df_orders_decommissioned,\n",
    "    \"df_orders_all\": df_orders_all,\n",
    "    \"df_equipment_decomission_request\": df_equipment_decomission_request,\n",
    "    \"df_storage\": df_storage,\n",
    "    \"df_equipment_missing_hospital\": df_equipment_missing_hospital,\n",
    "}\n",
    "\n",
    "## Save each DataFrame as a CSV file inside the specified folder\n",
    "for name, df in dfs.items():\n",
    "    file_path = os.path.join(\"..\",folder_name, f\"{name}.csv\")\n",
    "    df.to_csv(file_path, index=False)\n",
    "\n",
    "print(\"Export process completed successfully.\")\n"
   ]
  }
 ],
 "metadata": {
  "kernelspec": {
   "display_name": "Python 3",
   "language": "python",
   "name": "python3"
  },
  "language_info": {
   "codemirror_mode": {
    "name": "ipython",
    "version": 3
   },
   "file_extension": ".py",
   "mimetype": "text/x-python",
   "name": "python",
   "nbconvert_exporter": "python",
   "pygments_lexer": "ipython3",
   "version": "3.11.2"
  }
 },
 "nbformat": 4,
 "nbformat_minor": 2
}
