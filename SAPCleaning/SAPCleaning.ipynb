{
 "cells": [
  {
   "cell_type": "markdown",
   "metadata": {},
   "source": [
    "# DataBaseCleaning"
   ]
  },
  {
   "cell_type": "markdown",
   "metadata": {},
   "source": [
    "## Part 1: Load DataFrames and Import Libraries"
   ]
  },
  {
   "cell_type": "code",
   "execution_count": 2,
   "metadata": {},
   "outputs": [],
   "source": [
    "%load_ext autoreload\n",
    "%autoreload 2\n",
    "\n",
    "import importlib\n",
    "import SAP_cleaning_functions as f\n",
    "importlib.reload(f)\n",
    "import os\n",
    "import pandas as pd"
   ]
  },
  {
   "cell_type": "code",
   "execution_count": 3,
   "metadata": {},
   "outputs": [
    {
     "name": "stdout",
     "output_type": "stream",
     "text": [
      "File loading completed.\n"
     ]
    }
   ],
   "source": [
    "# Define the folder where the files are located\n",
    "folder_name = \"DF_cleaned\"\n",
    "\n",
    "# List of base names for the DataFrames\n",
    "df_names = [\n",
    "    \"df_equipment\", \"df_orders\", \"df_equipment_decomission_request\", \"df_storage\",\n",
    "\n",
    "]\n",
    "\n",
    "# Dynamically load the DataFrames and assign them as individual variables\n",
    "for name in df_names:\n",
    "    file_path = os.path.join(\"../\",folder_name, f\"{name}.csv\")\n",
    "    globals()[name] = pd.read_csv(file_path)\n",
    "\n",
    "print(\"File loading completed.\")\n",
    "\n",
    "\n"
   ]
  },
  {
   "cell_type": "markdown",
   "metadata": {},
   "source": [
    "## Part 2: Equipment Without Hospital\n"
   ]
  },
  {
   "cell_type": "markdown",
   "metadata": {},
   "source": [
    "As we observed during the data cleaning process, several pieces of equipment had their **hospital data removed**.  \n",
    "These are clearly devices that are **scheduled for decommissioning.**  \n",
    "\n",
    "We mark these pieces of equipment as candidates for removal.  \n"
   ]
  },
  {
   "cell_type": "code",
   "execution_count": 4,
   "metadata": {},
   "outputs": [],
   "source": [
    "df_equipment_missing_hospital = df_equipment[df_equipment['Hospital'].isnull()]"
   ]
  },
  {
   "cell_type": "code",
   "execution_count": 5,
   "metadata": {},
   "outputs": [
    {
     "data": {
      "text/html": [
       "<div>\n",
       "<style scoped>\n",
       "    .dataframe tbody tr th:only-of-type {\n",
       "        vertical-align: middle;\n",
       "    }\n",
       "\n",
       "    .dataframe tbody tr th {\n",
       "        vertical-align: top;\n",
       "    }\n",
       "\n",
       "    .dataframe thead th {\n",
       "        text-align: right;\n",
       "    }\n",
       "</style>\n",
       "<table border=\"1\" class=\"dataframe\">\n",
       "  <thead>\n",
       "    <tr style=\"text-align: right;\">\n",
       "      <th></th>\n",
       "      <th>Equipment_ID</th>\n",
       "      <th>Type</th>\n",
       "      <th>Subtype</th>\n",
       "      <th>Serial_number</th>\n",
       "      <th>ABC</th>\n",
       "      <th>Purchase_value</th>\n",
       "      <th>Device_status</th>\n",
       "      <th>Responsible</th>\n",
       "      <th>Hospital</th>\n",
       "      <th>Department</th>\n",
       "      <th>Manufacturer</th>\n",
       "      <th>Model</th>\n",
       "      <th>Purchase_year</th>\n",
       "      <th>Last_order_year</th>\n",
       "      <th>Decommission_request</th>\n",
       "    </tr>\n",
       "  </thead>\n",
       "  <tbody>\n",
       "    <tr>\n",
       "      <th>81</th>\n",
       "      <td>T87-FTUWT</td>\n",
       "      <td>T87</td>\n",
       "      <td>St4</td>\n",
       "      <td>FTUWT</td>\n",
       "      <td>C</td>\n",
       "      <td>79207.92</td>\n",
       "      <td>Normal</td>\n",
       "      <td>NaN</td>\n",
       "      <td>NaN</td>\n",
       "      <td>NaN</td>\n",
       "      <td>F167</td>\n",
       "      <td>M369</td>\n",
       "      <td>2012</td>\n",
       "      <td>2000</td>\n",
       "      <td>0.0</td>\n",
       "    </tr>\n",
       "    <tr>\n",
       "      <th>206</th>\n",
       "      <td>T22-UUCC</td>\n",
       "      <td>T22</td>\n",
       "      <td>St560</td>\n",
       "      <td>UUCC</td>\n",
       "      <td>A</td>\n",
       "      <td>0.00</td>\n",
       "      <td>Normal</td>\n",
       "      <td>NaN</td>\n",
       "      <td>NaN</td>\n",
       "      <td>NaN</td>\n",
       "      <td>F374</td>\n",
       "      <td>M1316</td>\n",
       "      <td>2012</td>\n",
       "      <td>2000</td>\n",
       "      <td>0.0</td>\n",
       "    </tr>\n",
       "  </tbody>\n",
       "</table>\n",
       "</div>"
      ],
      "text/plain": [
       "    Equipment_ID Type Subtype Serial_number ABC  Purchase_value Device_status  \\\n",
       "81     T87-FTUWT  T87     St4         FTUWT   C        79207.92        Normal   \n",
       "206     T22-UUCC  T22   St560          UUCC   A            0.00        Normal   \n",
       "\n",
       "    Responsible Hospital Department Manufacturer  Model  Purchase_year  \\\n",
       "81          NaN      NaN        NaN         F167   M369           2012   \n",
       "206         NaN      NaN        NaN         F374  M1316           2012   \n",
       "\n",
       "     Last_order_year  Decommission_request  \n",
       "81              2000                   0.0  \n",
       "206             2000                   0.0  "
      ]
     },
     "execution_count": 5,
     "metadata": {},
     "output_type": "execute_result"
    }
   ],
   "source": [
    "df_equipment_missing_hospital.head(2)"
   ]
  },
  {
   "cell_type": "code",
   "execution_count": 6,
   "metadata": {},
   "outputs": [
    {
     "data": {
      "text/plain": [
       "(182, 15)"
      ]
     },
     "execution_count": 6,
     "metadata": {},
     "output_type": "execute_result"
    }
   ],
   "source": [
    "df_equipment_missing_hospital.shape"
   ]
  },
  {
   "cell_type": "markdown",
   "metadata": {},
   "source": [
    "Let's check the year of the last order, which represents the most recent recorded maintenance or service request for these pieces of equipment.  \n"
   ]
  },
  {
   "cell_type": "markdown",
   "metadata": {},
   "source": [
    "We observe that **many of these pieces of equipment have recent orders**.  \n",
    "- **Mark for removal** equipment with **orders from 2020 or earlier**.  \n",
    "- **Mark the rest for further analysis** to assess their current status and necessity.  \n"
   ]
  },
  {
   "cell_type": "markdown",
   "metadata": {},
   "source": [
    "We are only interested in the **Equipment_ID** field, as the rest of the information can be retrieved from the df_equipment DataFrame.  "
   ]
  },
  {
   "cell_type": "code",
   "execution_count": 7,
   "metadata": {},
   "outputs": [],
   "source": [
    "# Equipment to be removed: those whose last order was before 2020 or whose purchase year was before 2013\n",
    "df_remove_missing_hospital = df_equipment_missing_hospital[\n",
    "    (df_equipment_missing_hospital[\"Last_order_year\"] < 2020.0) | (df_equipment_missing_hospital[\"Purchase_year\"] < 2013)\n",
    "]\n",
    "\n",
    "# Equipment to analyze: those that are in df_equipment_missing_hospital and are not marked for removal\n",
    "df_analyze_missing_hospital = df_equipment_missing_hospital[\n",
    "    ~df_equipment_missing_hospital[\"Equipment_ID\"].isin(df_remove_missing_hospital[\"Equipment_ID\"])\n",
    "]\n"
   ]
  },
  {
   "cell_type": "code",
   "execution_count": 8,
   "metadata": {},
   "outputs": [
    {
     "data": {
      "text/plain": [
       "Purchase_year\n",
       "2024     7\n",
       "2023     4\n",
       "2020     1\n",
       "2017     1\n",
       "2016     4\n",
       "2015     2\n",
       "2014     8\n",
       "2013    12\n",
       "2012    53\n",
       "2011     9\n",
       "2010     2\n",
       "2009     5\n",
       "2008    20\n",
       "2005    31\n",
       "dtype: int64"
      ]
     },
     "execution_count": 8,
     "metadata": {},
     "output_type": "execute_result"
    }
   ],
   "source": [
    "df_remove_missing_hospital.groupby(\"Purchase_year\").size().sort_index(ascending=False)"
   ]
  },
  {
   "cell_type": "code",
   "execution_count": 9,
   "metadata": {},
   "outputs": [
    {
     "data": {
      "text/plain": [
       "Last_order_year\n",
       "2025    12\n",
       "2024     1\n",
       "2023     1\n",
       "2019     4\n",
       "2018     9\n",
       "2017    12\n",
       "2016    11\n",
       "2015     7\n",
       "2014     6\n",
       "2013     9\n",
       "2012    10\n",
       "2011     1\n",
       "2009     1\n",
       "2000    75\n",
       "dtype: int64"
      ]
     },
     "execution_count": 9,
     "metadata": {},
     "output_type": "execute_result"
    }
   ],
   "source": [
    "df_remove_missing_hospital.groupby(\"Last_order_year\").size().sort_index(ascending=False)"
   ]
  },
  {
   "cell_type": "code",
   "execution_count": 10,
   "metadata": {},
   "outputs": [
    {
     "name": "stdout",
     "output_type": "stream",
     "text": [
      "Equipment to delete without Hospital : 159\n",
      "Equipment to analyze without Hospital: 23\n"
     ]
    }
   ],
   "source": [
    "print(f\"Equipment to delete without Hospital : {df_remove_missing_hospital.shape[0]}\")\n",
    "print(f\"Equipment to analyze without Hospital: {df_analyze_missing_hospital.shape[0]}\")"
   ]
  },
  {
   "cell_type": "markdown",
   "metadata": {},
   "source": [
    "## Part 3: Unusual Locations  "
   ]
  },
  {
   "cell_type": "markdown",
   "metadata": {},
   "source": [
    "Reviewing the information in the Storagees dataset, we found that some hospitals **do not have an assigned responsible center**, and several of them have **very few pieces of equipment.**  \n"
   ]
  },
  {
   "cell_type": "code",
   "execution_count": 11,
   "metadata": {},
   "outputs": [
    {
     "data": {
      "text/html": [
       "<div>\n",
       "<style scoped>\n",
       "    .dataframe tbody tr th:only-of-type {\n",
       "        vertical-align: middle;\n",
       "    }\n",
       "\n",
       "    .dataframe tbody tr th {\n",
       "        vertical-align: top;\n",
       "    }\n",
       "\n",
       "    .dataframe thead th {\n",
       "        text-align: right;\n",
       "    }\n",
       "</style>\n",
       "<table border=\"1\" class=\"dataframe\">\n",
       "  <thead>\n",
       "    <tr style=\"text-align: right;\">\n",
       "      <th></th>\n",
       "      <th>Responsible</th>\n",
       "      <th>Storage</th>\n",
       "      <th>Hospital</th>\n",
       "    </tr>\n",
       "  </thead>\n",
       "  <tbody>\n",
       "    <tr>\n",
       "      <th>47</th>\n",
       "      <td>NAN</td>\n",
       "      <td>NaN</td>\n",
       "      <td>H38</td>\n",
       "    </tr>\n",
       "    <tr>\n",
       "      <th>48</th>\n",
       "      <td>NAN</td>\n",
       "      <td>NaN</td>\n",
       "      <td>NaN</td>\n",
       "    </tr>\n",
       "    <tr>\n",
       "      <th>49</th>\n",
       "      <td>NAN</td>\n",
       "      <td>NaN</td>\n",
       "      <td>H36</td>\n",
       "    </tr>\n",
       "    <tr>\n",
       "      <th>50</th>\n",
       "      <td>NAN</td>\n",
       "      <td>NaN</td>\n",
       "      <td>H48</td>\n",
       "    </tr>\n",
       "    <tr>\n",
       "      <th>51</th>\n",
       "      <td>NAN</td>\n",
       "      <td>NaN</td>\n",
       "      <td>BAJ</td>\n",
       "    </tr>\n",
       "  </tbody>\n",
       "</table>\n",
       "</div>"
      ],
      "text/plain": [
       "   Responsible Storage Hospital\n",
       "47         NAN     NaN      H38\n",
       "48         NAN     NaN      NaN\n",
       "49         NAN     NaN      H36\n",
       "50         NAN     NaN      H48\n",
       "51         NAN     NaN      BAJ"
      ]
     },
     "execution_count": 11,
     "metadata": {},
     "output_type": "execute_result"
    }
   ],
   "source": [
    "df_storage.tail(5)"
   ]
  },
  {
   "cell_type": "code",
   "execution_count": 12,
   "metadata": {},
   "outputs": [
    {
     "data": {
      "text/html": [
       "<div>\n",
       "<style scoped>\n",
       "    .dataframe tbody tr th:only-of-type {\n",
       "        vertical-align: middle;\n",
       "    }\n",
       "\n",
       "    .dataframe tbody tr th {\n",
       "        vertical-align: top;\n",
       "    }\n",
       "\n",
       "    .dataframe thead th {\n",
       "        text-align: right;\n",
       "    }\n",
       "</style>\n",
       "<table border=\"1\" class=\"dataframe\">\n",
       "  <thead>\n",
       "    <tr style=\"text-align: right;\">\n",
       "      <th></th>\n",
       "      <th>Hospital</th>\n",
       "      <th>Quantity</th>\n",
       "      <th>Responsible</th>\n",
       "      <th>Storage</th>\n",
       "    </tr>\n",
       "  </thead>\n",
       "  <tbody>\n",
       "    <tr>\n",
       "      <th>0</th>\n",
       "      <td>H50</td>\n",
       "      <td>1</td>\n",
       "      <td>NAN</td>\n",
       "      <td>NaN</td>\n",
       "    </tr>\n",
       "    <tr>\n",
       "      <th>1</th>\n",
       "      <td>H49</td>\n",
       "      <td>1</td>\n",
       "      <td>NAN</td>\n",
       "      <td>NaN</td>\n",
       "    </tr>\n",
       "    <tr>\n",
       "      <th>2</th>\n",
       "      <td>H48</td>\n",
       "      <td>1</td>\n",
       "      <td>NAN</td>\n",
       "      <td>NaN</td>\n",
       "    </tr>\n",
       "    <tr>\n",
       "      <th>3</th>\n",
       "      <td>H41</td>\n",
       "      <td>2</td>\n",
       "      <td>NAN</td>\n",
       "      <td>NaN</td>\n",
       "    </tr>\n",
       "    <tr>\n",
       "      <th>5</th>\n",
       "      <td>H45</td>\n",
       "      <td>2</td>\n",
       "      <td>NAN</td>\n",
       "      <td>NaN</td>\n",
       "    </tr>\n",
       "    <tr>\n",
       "      <th>6</th>\n",
       "      <td>H43</td>\n",
       "      <td>3</td>\n",
       "      <td>NAN</td>\n",
       "      <td>NaN</td>\n",
       "    </tr>\n",
       "    <tr>\n",
       "      <th>7</th>\n",
       "      <td>H46</td>\n",
       "      <td>4</td>\n",
       "      <td>NAN</td>\n",
       "      <td>NaN</td>\n",
       "    </tr>\n",
       "    <tr>\n",
       "      <th>8</th>\n",
       "      <td>H44</td>\n",
       "      <td>4</td>\n",
       "      <td>NAN</td>\n",
       "      <td>NaN</td>\n",
       "    </tr>\n",
       "    <tr>\n",
       "      <th>12</th>\n",
       "      <td>H38</td>\n",
       "      <td>10</td>\n",
       "      <td>NAN</td>\n",
       "      <td>NaN</td>\n",
       "    </tr>\n",
       "    <tr>\n",
       "      <th>14</th>\n",
       "      <td>H36</td>\n",
       "      <td>14</td>\n",
       "      <td>NAN</td>\n",
       "      <td>NaN</td>\n",
       "    </tr>\n",
       "    <tr>\n",
       "      <th>15</th>\n",
       "      <td>BAJ</td>\n",
       "      <td>14</td>\n",
       "      <td>NAN</td>\n",
       "      <td>NaN</td>\n",
       "    </tr>\n",
       "    <tr>\n",
       "      <th>17</th>\n",
       "      <td>H33</td>\n",
       "      <td>24</td>\n",
       "      <td>NAN</td>\n",
       "      <td>NaN</td>\n",
       "    </tr>\n",
       "    <tr>\n",
       "      <th>23</th>\n",
       "      <td>H25</td>\n",
       "      <td>64</td>\n",
       "      <td>NAN</td>\n",
       "      <td>NaN</td>\n",
       "    </tr>\n",
       "    <tr>\n",
       "      <th>36</th>\n",
       "      <td>H14</td>\n",
       "      <td>150</td>\n",
       "      <td>NAN</td>\n",
       "      <td>NaN</td>\n",
       "    </tr>\n",
       "  </tbody>\n",
       "</table>\n",
       "</div>"
      ],
      "text/plain": [
       "   Hospital  Quantity Responsible Storage\n",
       "0       H50         1         NAN     NaN\n",
       "1       H49         1         NAN     NaN\n",
       "2       H48         1         NAN     NaN\n",
       "3       H41         2         NAN     NaN\n",
       "5       H45         2         NAN     NaN\n",
       "6       H43         3         NAN     NaN\n",
       "7       H46         4         NAN     NaN\n",
       "8       H44         4         NAN     NaN\n",
       "12      H38        10         NAN     NaN\n",
       "14      H36        14         NAN     NaN\n",
       "15      BAJ        14         NAN     NaN\n",
       "17      H33        24         NAN     NaN\n",
       "23      H25        64         NAN     NaN\n",
       "36      H14       150         NAN     NaN"
      ]
     },
     "execution_count": 12,
     "metadata": {},
     "output_type": "execute_result"
    }
   ],
   "source": [
    "# Group equipment by hospital and sort in ascending order based on the number of equipment\n",
    "df_hospitales_filtrados = df_equipment.groupby(\"Hospital\").size().sort_values().reset_index()\n",
    "df_hospitales_filtrados.columns = [\"Hospital\", \"Quantity\"]\n",
    "\n",
    "# Merge with warehouse information to obtain the responsible person\n",
    "df_merged = df_hospitales_filtrados.merge(df_storage, on=\"Hospital\", how=\"left\")\n",
    "\n",
    "# Filter hospitals without a properly assigned responsible person\n",
    "df_sin_Responsible = df_merged[df_merged[\"Responsible\"] == \"NAN\"]\n",
    "\n",
    "# Display result\n",
    "df_sin_Responsible\n"
   ]
  },
  {
   "cell_type": "markdown",
   "metadata": {},
   "source": [
    "Based on this, we observe that:  \n",
    "\n",
    "- There are three locations with only **one piece of equipment**.  \n",
    "- There is **one location** for **decommissioned equipment** and another for **equipment stored in the warehouse**.  \n"
   ]
  },
  {
   "cell_type": "code",
   "execution_count": 13,
   "metadata": {},
   "outputs": [
    {
     "data": {
      "text/html": [
       "<div>\n",
       "<style scoped>\n",
       "    .dataframe tbody tr th:only-of-type {\n",
       "        vertical-align: middle;\n",
       "    }\n",
       "\n",
       "    .dataframe tbody tr th {\n",
       "        vertical-align: top;\n",
       "    }\n",
       "\n",
       "    .dataframe thead th {\n",
       "        text-align: right;\n",
       "    }\n",
       "</style>\n",
       "<table border=\"1\" class=\"dataframe\">\n",
       "  <thead>\n",
       "    <tr style=\"text-align: right;\">\n",
       "      <th></th>\n",
       "      <th>Hospital</th>\n",
       "      <th>Quantity</th>\n",
       "      <th>Responsible</th>\n",
       "      <th>Storage</th>\n",
       "    </tr>\n",
       "  </thead>\n",
       "  <tbody>\n",
       "    <tr>\n",
       "      <th>0</th>\n",
       "      <td>H50</td>\n",
       "      <td>1</td>\n",
       "      <td>NAN</td>\n",
       "      <td>NaN</td>\n",
       "    </tr>\n",
       "    <tr>\n",
       "      <th>1</th>\n",
       "      <td>H49</td>\n",
       "      <td>1</td>\n",
       "      <td>NAN</td>\n",
       "      <td>NaN</td>\n",
       "    </tr>\n",
       "    <tr>\n",
       "      <th>2</th>\n",
       "      <td>H48</td>\n",
       "      <td>1</td>\n",
       "      <td>NAN</td>\n",
       "      <td>NaN</td>\n",
       "    </tr>\n",
       "    <tr>\n",
       "      <th>3</th>\n",
       "      <td>H41</td>\n",
       "      <td>2</td>\n",
       "      <td>NAN</td>\n",
       "      <td>NaN</td>\n",
       "    </tr>\n",
       "    <tr>\n",
       "      <th>5</th>\n",
       "      <td>H45</td>\n",
       "      <td>2</td>\n",
       "      <td>NAN</td>\n",
       "      <td>NaN</td>\n",
       "    </tr>\n",
       "    <tr>\n",
       "      <th>6</th>\n",
       "      <td>H43</td>\n",
       "      <td>3</td>\n",
       "      <td>NAN</td>\n",
       "      <td>NaN</td>\n",
       "    </tr>\n",
       "    <tr>\n",
       "      <th>7</th>\n",
       "      <td>H46</td>\n",
       "      <td>4</td>\n",
       "      <td>NAN</td>\n",
       "      <td>NaN</td>\n",
       "    </tr>\n",
       "    <tr>\n",
       "      <th>8</th>\n",
       "      <td>H44</td>\n",
       "      <td>4</td>\n",
       "      <td>NAN</td>\n",
       "      <td>NaN</td>\n",
       "    </tr>\n",
       "  </tbody>\n",
       "</table>\n",
       "</div>"
      ],
      "text/plain": [
       "  Hospital  Quantity Responsible Storage\n",
       "0      H50         1         NAN     NaN\n",
       "1      H49         1         NAN     NaN\n",
       "2      H48         1         NAN     NaN\n",
       "3      H41         2         NAN     NaN\n",
       "5      H45         2         NAN     NaN\n",
       "6      H43         3         NAN     NaN\n",
       "7      H46         4         NAN     NaN\n",
       "8      H44         4         NAN     NaN"
      ]
     },
     "execution_count": 13,
     "metadata": {},
     "output_type": "execute_result"
    }
   ],
   "source": [
    "df_small_hospitals = df_sin_Responsible[df_sin_Responsible[\"Quantity\"] < 5]\n",
    "df_small_hospitals"
   ]
  },
  {
   "cell_type": "markdown",
   "metadata": {},
   "source": [
    "We will **mark for removal** the equipment located in the **decommissioned (BAJA) location**.  \n",
    "For the remaining locations, further analysis is needed to determine their relevance and **assign a responsible person** if necessary.  \n"
   ]
  },
  {
   "cell_type": "code",
   "execution_count": 14,
   "metadata": {},
   "outputs": [
    {
     "data": {
      "text/plain": [
       "Last_order_year\n",
       "2025    1\n",
       "2024    2\n",
       "2023    1\n",
       "2022    1\n",
       "2020    1\n",
       "2018    1\n",
       "2017    2\n",
       "2016    1\n",
       "2013    1\n",
       "2000    3\n",
       "dtype: int64"
      ]
     },
     "execution_count": 14,
     "metadata": {},
     "output_type": "execute_result"
    }
   ],
   "source": [
    "df_baja_hospital = df_equipment[df_equipment[\"Hospital\"] == \"BAJ\"]\n",
    "df_baja_hospital.groupby(\"Last_order_year\").size().sort_index(ascending=False)\n"
   ]
  },
  {
   "cell_type": "markdown",
   "metadata": {},
   "source": [
    "As before, we notice that **some of these pieces of equipment have very recent orders**.  \n",
    "We will classify them into three categories:  \n",
    "\n",
    "- **Equipment in a decommissioned hospital (BAJA) whose last order was before 2020 or purchased before 2013 → Mark for removal**.  \n",
    "- **Equipment in a decommissioned hospital (BAJA) that is not marked for removal → Mark for further analysis**.  \n",
    "- **Equipment without an assigned storage location → Mark for further analysis**.  \n",
    "- **Equipment with hospital with less than 4 equipments -> Mark for further analysis**.\n"
   ]
  },
  {
   "cell_type": "code",
   "execution_count": 15,
   "metadata": {},
   "outputs": [],
   "source": [
    "# Identify equipment in a decommissioned hospital (BAJA) whose last order was before 2020 or purchased before 2013 → Mark for removal\n",
    "df_remove_baja_hospital = df_baja_hospital[\n",
    "    (df_baja_hospital[\"Last_order_year\"] < 2020.0) | (df_baja_hospital[\"Purchase_year\"] < 2013)\n",
    "][\"Equipment_ID\"]\n",
    "\n",
    "# Identify equipment in a decommissioned hospital (BAJA) that is not marked for removal → Mark for further analysis\n",
    "df_analyze_baja_hospital = df_baja_hospital[\n",
    "    ~df_baja_hospital[\"Equipment_ID\"].isin(df_remove_baja_hospital)\n",
    "][\"Equipment_ID\"]\n",
    "\n",
    "# Identify equipment in hospitals without an assigned responsible → Mark for further analysis\n",
    "df_analyze_no_storage = df_equipment.loc[\n",
    "    df_equipment[\"Hospital\"].isin(df_sin_Responsible[\"Hospital\"]), [\"Equipment_ID\"]\n",
    "]\n",
    "\n",
    "df_analyze_small_hospitals = df_equipment.loc[\n",
    "    df_equipment[\"Hospital\"].isin(df_small_hospitals[\"Hospital\"]), [\"Equipment_ID\"]\n",
    "]\n"
   ]
  },
  {
   "cell_type": "code",
   "execution_count": 16,
   "metadata": {},
   "outputs": [
    {
     "name": "stdout",
     "output_type": "stream",
     "text": [
      "Equipment to delete with BAJ Hospital : 11\n",
      "Equipment to analyze with BAJ Hospital: 3\n",
      "Equipment to analyze without responsible: 294\n",
      "Equipment to analyze in small hospitals: 18\n"
     ]
    }
   ],
   "source": [
    "print(f\"Equipment to delete with BAJ Hospital : {df_remove_baja_hospital.shape[0]}\")\n",
    "print(f\"Equipment to analyze with BAJ Hospital: {df_analyze_baja_hospital.shape[0]}\")\n",
    "print(f\"Equipment to analyze without responsible: {df_analyze_no_storage.shape[0]}\")\n",
    "print(f\"Equipment to analyze in small hospitals: {df_analyze_small_hospitals.shape[0]}\")"
   ]
  },
  {
   "cell_type": "markdown",
   "metadata": {},
   "source": [
    "## Part 4: Equipment Status  "
   ]
  },
  {
   "cell_type": "markdown",
   "metadata": {},
   "source": [
    "Let's analyze the **equipment status** to identify any relevant patterns or inconsistencies.  "
   ]
  },
  {
   "cell_type": "code",
   "execution_count": 17,
   "metadata": {},
   "outputs": [
    {
     "data": {
      "text/plain": [
       "Device_status\n",
       "Normal    11706\n",
       "NOEN        500\n",
       "dtype: int64"
      ]
     },
     "execution_count": 17,
     "metadata": {},
     "output_type": "execute_result"
    }
   ],
   "source": [
    "df_equipment.groupby(\"Device_status\").size().sort_values(ascending=False)\n"
   ]
  },
  {
   "cell_type": "markdown",
   "metadata": {},
   "source": [
    "We observe that equipment can belong to three categories, which include:  \n",
    "\n",
    "- Normal  \n",
    "- NOEN (Not found)  \n"
   ]
  },
  {
   "cell_type": "markdown",
   "metadata": {},
   "source": [
    "### Part 4-a: Categories NOEN"
   ]
  },
  {
   "cell_type": "markdown",
   "metadata": {},
   "source": [
    "The category NOEN are for those equipment that have not been found for a while"
   ]
  },
  {
   "cell_type": "markdown",
   "metadata": {},
   "source": [
    "All of these pieces of equipment are **unusual and require further analysis**.  \n",
    "However, we will **mark for removal** those that meet the following criteria:  \n",
    "\n",
    "- **No hospital assigned**.  \n",
    "- **Have a decommissioning request**.  \n",
    "- **Purchased before 2013** and either:  \n",
    "  - **Last recorded order was before 2013**, or  \n",
    "  - **No recorded orders at all**.  \n"
   ]
  },
  {
   "cell_type": "code",
   "execution_count": 18,
   "metadata": {},
   "outputs": [
    {
     "name": "stdout",
     "output_type": "stream",
     "text": [
      "Equipment with NOEN category: 500\n"
     ]
    }
   ],
   "source": [
    "df_NOEN = df_equipment[df_equipment[\"Device_status\"] == \"NOEN\"]\n",
    "print(f\"Equipment with NOEN category: {df_NOEN.shape[0]}\")"
   ]
  },
  {
   "cell_type": "code",
   "execution_count": 19,
   "metadata": {},
   "outputs": [
    {
     "name": "stdout",
     "output_type": "stream",
     "text": [
      "NOEN without hospital: 35\n",
      "NOEN with decommissioning request: 3\n",
      "NOEN purchased before 2013 with last order before 2013 or no orders: 147\n",
      "Total NOEN equipment marked for removal: 182\n",
      "Total NOEN equipment to analyze: 318\n"
     ]
    },
    {
     "data": {
      "text/plain": [
       "Purchase_year\n",
       "2005    11\n",
       "2007     3\n",
       "2008    63\n",
       "2009     7\n",
       "2010    12\n",
       "2011    23\n",
       "2012    51\n",
       "2013    31\n",
       "2014    29\n",
       "2015    16\n",
       "2016     8\n",
       "2017    41\n",
       "2018     4\n",
       "2019     1\n",
       "2020     4\n",
       "2021     1\n",
       "2022     4\n",
       "2023     9\n",
       "Name: count, dtype: int64"
      ]
     },
     "execution_count": 19,
     "metadata": {},
     "output_type": "execute_result"
    }
   ],
   "source": [
    "## Filter NOEN equipment that meets the removal criteria\n",
    "\n",
    "# Equipment categorized as NOEN without a hospital assignment\n",
    "df_NOEN_Sin_Hospital = df_NOEN[df_NOEN[\"Hospital\"].isna()]\n",
    "\n",
    "# Equipment categorized as NOEN with a decommissioning request\n",
    "df_NOEN_Decommission_request = df_NOEN[df_NOEN[\"Decommission_request\"] == 1]\n",
    "\n",
    "# Equipment purchased before 2013 with either no recorded orders or last order before 2013\n",
    "df_NOEN_anteriores_2013 = df_NOEN[\n",
    "    (df_NOEN[\"Purchase_year\"] < 2013) &\n",
    "    ((df_NOEN[\"Last_order_year\"] < 2013))\n",
    "]\n",
    "\n",
    "## Print summary of identified equipment for removal\n",
    "print(\"NOEN without hospital:\", df_NOEN_Sin_Hospital.shape[0])\n",
    "print(\"NOEN with decommissioning request:\", df_NOEN_Decommission_request.shape[0])\n",
    "print(\"NOEN purchased before 2013 with last order before 2013 or no orders:\", df_NOEN_anteriores_2013.shape[0])\n",
    "\n",
    "## Merge the filtered DataFrames into a single list of equipment to be removed\n",
    "df_remove_NOEN = pd.concat([df_NOEN_Sin_Hospital, df_NOEN_Decommission_request, df_NOEN_anteriores_2013]).drop_duplicates()[\"Equipment_ID\"]\n",
    "\n",
    "## Print final count of NOEN equipment marked for removal\n",
    "print(\"Total NOEN equipment marked for removal:\", df_remove_NOEN.shape[0])\n",
    "\n",
    "df_analyze_NOEN = df_NOEN[~df_NOEN[\"Equipment_ID\"].isin(df_remove_NOEN)]\n",
    "print(\"Total NOEN equipment to analyze:\", df_analyze_NOEN.shape[0])\n",
    "df_analyze_NOEN[\"Purchase_year\"].value_counts().sort_index()\n"
   ]
  },
  {
   "cell_type": "markdown",
   "metadata": {},
   "source": [
    "There are many pieces of equipment with a purchase date before 2008 (over 17 years old), which is noteworthy. Let's check the year of the last order."
   ]
  },
  {
   "cell_type": "code",
   "execution_count": 20,
   "metadata": {
    "vscode": {
     "languageId": "ruby"
    }
   },
   "outputs": [
    {
     "data": {
      "text/plain": [
       "Last_order_year\n",
       "2013     2\n",
       "2014     1\n",
       "2015     4\n",
       "2017     8\n",
       "2018     5\n",
       "2019     9\n",
       "2020     3\n",
       "2021    10\n",
       "2022     5\n",
       "2023     5\n",
       "2024    15\n",
       "2025    10\n",
       "Name: count, dtype: int64"
      ]
     },
     "execution_count": 20,
     "metadata": {},
     "output_type": "execute_result"
    }
   ],
   "source": [
    "# Filter NOEN equipment with a purchase date on or before 2008\n",
    "equipos_NOEN_ant_2008 = df_analyze_NOEN[df_analyze_NOEN[\"Purchase_year\"] <= 2008]\n",
    "\n",
    "# Merge with the orders DataFrame to obtain the last order information\n",
    "equipos_NOEN_ant_2008[\"Last_order_year\"].value_counts().sort_index()\n"
   ]
  },
  {
   "cell_type": "markdown",
   "metadata": {
    "vscode": {
     "languageId": "ruby"
    }
   },
   "source": [
    "Let's mark these pieces of equipment for analysis."
   ]
  },
  {
   "cell_type": "code",
   "execution_count": 21,
   "metadata": {
    "vscode": {
     "languageId": "ruby"
    }
   },
   "outputs": [
    {
     "name": "stdout",
     "output_type": "stream",
     "text": [
      " Total NOEN with purchase before 2008 equipment to analyze: 77\n"
     ]
    }
   ],
   "source": [
    "df_analyze_NOEN_pre2008 = equipos_NOEN_ant_2008\n",
    "print(\" Total NOEN with purchase before 2008 equipment to analyze:\", df_analyze_NOEN_pre2008.shape[0])"
   ]
  },
  {
   "cell_type": "markdown",
   "metadata": {},
   "source": [
    "We can also see that many pieces of equipment were bought recently but are marked as NOEN.\n",
    "\n",
    "We need to analize these further"
   ]
  },
  {
   "cell_type": "code",
   "execution_count": 22,
   "metadata": {},
   "outputs": [
    {
     "name": "stdout",
     "output_type": "stream",
     "text": [
      "NOEN equipment to analyze purchased after 2020: 18\n"
     ]
    }
   ],
   "source": [
    "df_analyze_NOEN_post2020 = df_analyze_NOEN[df_analyze_NOEN[\"Purchase_year\"] >= 2020]\n",
    "print(\"NOEN equipment to analyze purchased after 2020:\", df_analyze_NOEN_post2020.shape[0])"
   ]
  },
  {
   "cell_type": "markdown",
   "metadata": {},
   "source": [
    "## Part 5: Equipment purchased before 2013.\n"
   ]
  },
  {
   "cell_type": "markdown",
   "metadata": {},
   "source": [
    "\n",
    "Equipment purchased before 2013 is now over **11 years old** and is more prone to failure. To ensure data accuracy and proper equipment tracking, we will remove those that meet the following criteria:  \n",
    "\n",
    "- **Last order before 2013 or missing data.**  \n",
    "- **Marked for decommissioning.**  \n",
    "- **No assigned hospital data.**  \n",
    "\n",
    "However, we will **mark for further analysis** any equipment that is more than **11 years old** but does not fall into any of these categories. These cases require a closer review to determine their status and whether they should remain in the database.  \n"
   ]
  },
  {
   "cell_type": "code",
   "execution_count": 23,
   "metadata": {},
   "outputs": [],
   "source": [
    "df_old = df_equipment[df_equipment[\"Purchase_year\"] < 2013]"
   ]
  },
  {
   "cell_type": "code",
   "execution_count": 24,
   "metadata": {},
   "outputs": [
    {
     "name": "stdout",
     "output_type": "stream",
     "text": [
      "Old without hospital: 120\n",
      "Old with decommissioning request: 82\n",
      "Old with last order before 2013 or no orders: 175\n",
      "Total old equipment marked for removal: 371\n",
      "Total old equipment to analyze: 1074\n"
     ]
    }
   ],
   "source": [
    "## Filter NOEN equipment that meets the removal criteria\n",
    "\n",
    "# Equipment categorized as NOEN without a hospital assignment\n",
    "df_Old_Sin_Hospital = df_old[df_old[\"Hospital\"].isna()]\n",
    "\n",
    "# Equipment categorized as NOEN with a decommissioning request\n",
    "df_old_Decommission_request = df_old[df_old[\"Decommission_request\"] == 1]\n",
    "\n",
    "# Equipment purchased before 2013 with either no recorded orders or last order before 2013\n",
    "df_old_anteriores_2013 = df_NOEN[\n",
    "    ((df_NOEN[\"Last_order_year\"] < 2013))\n",
    "]\n",
    "\n",
    "## Print summary of identified equipment for removal\n",
    "print(\"Old without hospital:\", df_Old_Sin_Hospital.shape[0])\n",
    "print(\"Old with decommissioning request:\", df_old_Decommission_request.shape[0])\n",
    "print(\"Old with last order before 2013 or no orders:\", df_old_anteriores_2013.shape[0])\n",
    "\n",
    "## Merge the filtered DataFrames into a single list of equipment to be removed\n",
    "df_remove_old_devices = pd.concat([df_Old_Sin_Hospital, df_old_Decommission_request, df_old_anteriores_2013]).drop_duplicates()[\"Equipment_ID\"]\n",
    "\n",
    "## Print final count of NOEN equipment marked for removal\n",
    "print(\"Total old equipment marked for removal:\", df_remove_old_devices.shape[0])\n",
    "\n",
    "df_analyze_old_devices = df_old[~df_old[\"Equipment_ID\"].isin(df_remove_old_devices)].drop_duplicates()\n",
    "df_analyze_old_devices = df_analyze_old_devices[(df_analyze_old_devices[\"Last_order_year\"] <= 2013)]\n",
    "\n",
    "print(\"Total old equipment to analyze:\", df_analyze_old_devices.shape[0])\n"
   ]
  },
  {
   "cell_type": "markdown",
   "metadata": {},
   "source": [
    "All of this equipment should catch our attention as it is over 13 years old, making it likely to start failing more frequently."
   ]
  },
  {
   "cell_type": "markdown",
   "metadata": {},
   "source": [
    "## Part 6: Equipment with las order before 2013 or without it"
   ]
  },
  {
   "cell_type": "markdown",
   "metadata": {},
   "source": [
    "These pieces of equipment have **over 10 years** without a formal record, raising concerns about their status and reliability. To ensure accurate tracking, we will remove those that meet any of the following criteria:  \n",
    "\n",
    "- **Purchased before 2013.**  \n",
    "- **Marked for decommissioning.**  \n",
    "- **No assigned hospital data.**  \n",
    "\n",
    "However, if the equipment does not meet the removal criteria but was **purchased before 2013**, we will **mark it for further analysis** to assess its current status and necessity in the database.  \n"
   ]
  },
  {
   "cell_type": "code",
   "execution_count": 25,
   "metadata": {},
   "outputs": [
    {
     "data": {
      "text/plain": [
       "3286"
      ]
     },
     "execution_count": 25,
     "metadata": {},
     "output_type": "execute_result"
    }
   ],
   "source": [
    "len((df_equipment[df_equipment[\"Last_order_year\"] < 2014]))"
   ]
  },
  {
   "cell_type": "code",
   "execution_count": 26,
   "metadata": {},
   "outputs": [],
   "source": [
    "equipos_sin_orden_o_ant_2013 = df_equipment[(df_equipment[\"Last_order_year\"] < 2014)]\n"
   ]
  },
  {
   "cell_type": "markdown",
   "metadata": {},
   "source": [
    "Let's mark for removal the equipment that has a decommission request, is not assigned to a hospital, or was purchased before 2013."
   ]
  },
  {
   "cell_type": "code",
   "execution_count": 27,
   "metadata": {},
   "outputs": [
    {
     "name": "stdout",
     "output_type": "stream",
     "text": [
      "Old equipment without hospital: 96\n",
      "Old equipment with decommissioning request: 14\n",
      "Old equipment with last order before 2013 or no orders: 1225\n",
      "Total equipment marked for removal: 1267\n",
      "Total equipment to analyze: 61\n"
     ]
    }
   ],
   "source": [
    "## **Filter NOEN equipment that meets the removal criteria**\n",
    "\n",
    "# Equipment without a hospital assignment\n",
    "df_order_Sin_Hospital = equipos_sin_orden_o_ant_2013[\n",
    "    equipos_sin_orden_o_ant_2013[\"Hospital\"].isna()\n",
    "][\"Equipment_ID\"]\n",
    "\n",
    "# Equipment with a decommissioning request\n",
    "df_order_Decommission_request = equipos_sin_orden_o_ant_2013[\n",
    "    equipos_sin_orden_o_ant_2013[\"Decommission_request\"] == 1\n",
    "][\"Equipment_ID\"]\n",
    "\n",
    "# Equipment last ordered before 2013 or with no recorded orders and purchased before 2013 → Mark for removal\n",
    "df_order_anteriores_2013 = equipos_sin_orden_o_ant_2013[\n",
    "    (equipos_sin_orden_o_ant_2013[\"Purchase_year\"] < 2013)\n",
    "    & ((equipos_sin_orden_o_ant_2013[\"Last_order_year\"] < 2013))\n",
    "][\"Equipment_ID\"].drop_duplicates()\n",
    "\n",
    "## Print summary of identified equipment for removal\n",
    "print(\"Old equipment without hospital:\", df_order_Sin_Hospital.shape[0])\n",
    "print(\"Old equipment with decommissioning request:\", df_order_Decommission_request.shape[0])\n",
    "print(\"Old equipment with last order before 2013 or no orders:\", df_order_anteriores_2013.shape[0])\n",
    "\n",
    "## Merge the filtered DataFrames into a single list of equipment to be removed\n",
    "df_remove_no_orders = pd.concat([df_order_Sin_Hospital, df_order_Decommission_request, df_order_anteriores_2013]).drop_duplicates()\n",
    "\n",
    "## Print final count of NOEN equipment marked for removal\n",
    "print(\"Total equipment marked for removal:\", df_remove_no_orders.shape[0])\n",
    "\n",
    "# **Mark for analysis**: Equipment that is **not** in the removal list but was purchased before 2013\n",
    "df_analyze_no_orders = equipos_sin_orden_o_ant_2013[\n",
    "    (~equipos_sin_orden_o_ant_2013[\"Equipment_ID\"].isin(df_remove_no_orders))\n",
    "    & (equipos_sin_orden_o_ant_2013[\"Purchase_year\"] < 2013)\n",
    "]\n",
    "\n",
    "print(\"Total equipment to analyze:\", df_analyze_no_orders.shape[0])\n"
   ]
  },
  {
   "cell_type": "markdown",
   "metadata": {},
   "source": [
    "## Part 7: Decommission request."
   ]
  },
  {
   "cell_type": "code",
   "execution_count": 28,
   "metadata": {},
   "outputs": [
    {
     "data": {
      "text/plain": [
       "Purchase_year\n",
       "2005     5\n",
       "2007     1\n",
       "2008    32\n",
       "2009     3\n",
       "2010     1\n",
       "2011     5\n",
       "2012    35\n",
       "2013    11\n",
       "2014     4\n",
       "2015    11\n",
       "2016     6\n",
       "2017     3\n",
       "2018     5\n",
       "2019     1\n",
       "2023     1\n",
       "2024     2\n",
       "Name: count, dtype: int64"
      ]
     },
     "execution_count": 28,
     "metadata": {},
     "output_type": "execute_result"
    }
   ],
   "source": [
    "df_equipment_SAP_Con_Sol_Baja = df_equipment[df_equipment[\"Decommission_request\"] == 1]\n",
    "df_equipment_SAP_Con_Sol_Baja[\"Purchase_year\"].value_counts().sort_index()"
   ]
  },
  {
   "cell_type": "markdown",
   "metadata": {},
   "source": [
    "Most of these pieces of equipment are old, and it's surprising that they haven't been decommissioned yet. The next step in the analysis is to check if any of them have more than one decommission request."
   ]
  },
  {
   "cell_type": "code",
   "execution_count": 29,
   "metadata": {},
   "outputs": [
    {
     "name": "stdout",
     "output_type": "stream",
     "text": [
      "Equipment appearing more than once: 4\n"
     ]
    },
    {
     "name": "stderr",
     "output_type": "stream",
     "text": [
      "C:\\Users\\frano\\AppData\\Local\\Temp\\ipykernel_29504\\1602093726.py:5: SettingWithCopyWarning: \n",
      "A value is trying to be set on a copy of a slice from a DataFrame.\n",
      "Try using .loc[row_indexer,col_indexer] = value instead\n",
      "\n",
      "See the caveats in the documentation: https://pandas.pydata.org/pandas-docs/stable/user_guide/indexing.html#returning-a-view-versus-a-copy\n",
      "  df_equipment_SAP_Con_Sol_Baja[\"Number_of_Appearances\"] = df_equipment_SAP_Con_Sol_Baja[\"Equipment_ID\"].map(equipment_count).fillna(0).astype(int)\n"
     ]
    },
    {
     "data": {
      "text/html": [
       "<div>\n",
       "<style scoped>\n",
       "    .dataframe tbody tr th:only-of-type {\n",
       "        vertical-align: middle;\n",
       "    }\n",
       "\n",
       "    .dataframe tbody tr th {\n",
       "        vertical-align: top;\n",
       "    }\n",
       "\n",
       "    .dataframe thead th {\n",
       "        text-align: right;\n",
       "    }\n",
       "</style>\n",
       "<table border=\"1\" class=\"dataframe\">\n",
       "  <thead>\n",
       "    <tr style=\"text-align: right;\">\n",
       "      <th></th>\n",
       "      <th>Equipment_ID</th>\n",
       "      <th>Created</th>\n",
       "      <th>Modified</th>\n",
       "      <th>Status</th>\n",
       "    </tr>\n",
       "  </thead>\n",
       "  <tbody>\n",
       "    <tr>\n",
       "      <th>791</th>\n",
       "      <td>T4-UKTF</td>\n",
       "      <td>2025-02-07 15:43:23</td>\n",
       "      <td>2025-02-07 15:43:25</td>\n",
       "      <td>NaN</td>\n",
       "    </tr>\n",
       "    <tr>\n",
       "      <th>799</th>\n",
       "      <td>T4-LTSKHECCTT</td>\n",
       "      <td>2025-02-14 09:30:30</td>\n",
       "      <td>2025-02-14 09:30:31</td>\n",
       "      <td>NaN</td>\n",
       "    </tr>\n",
       "    <tr>\n",
       "      <th>801</th>\n",
       "      <td>T4-UKTF</td>\n",
       "      <td>2025-02-14 09:33:25</td>\n",
       "      <td>2025-02-14 09:33:26</td>\n",
       "      <td>NaN</td>\n",
       "    </tr>\n",
       "    <tr>\n",
       "      <th>822</th>\n",
       "      <td>T4-LTSKHECCTT</td>\n",
       "      <td>2025-02-14 13:06:16</td>\n",
       "      <td>2025-02-14 13:06:17</td>\n",
       "      <td>NaN</td>\n",
       "    </tr>\n",
       "  </tbody>\n",
       "</table>\n",
       "</div>"
      ],
      "text/plain": [
       "      Equipment_ID              Created             Modified Status\n",
       "791        T4-UKTF  2025-02-07 15:43:23  2025-02-07 15:43:25    NaN\n",
       "799  T4-LTSKHECCTT  2025-02-14 09:30:30  2025-02-14 09:30:31    NaN\n",
       "801        T4-UKTF  2025-02-14 09:33:25  2025-02-14 09:33:26    NaN\n",
       "822  T4-LTSKHECCTT  2025-02-14 13:06:16  2025-02-14 13:06:17    NaN"
      ]
     },
     "execution_count": 29,
     "metadata": {},
     "output_type": "execute_result"
    }
   ],
   "source": [
    "# Count the number of times each piece of equipment appears in df_equipment_decomission_request\n",
    "equipment_count = df_equipment_decomission_request[\"Equipment_ID\"].value_counts()\n",
    "\n",
    "# Add the count to df_equipment_SAP_Con_Sol_Baja\n",
    "df_equipment_SAP_Con_Sol_Baja[\"Number_of_Appearances\"] = df_equipment_SAP_Con_Sol_Baja[\"Equipment_ID\"].map(equipment_count).fillna(0).astype(int)\n",
    "\n",
    "# Display the result\n",
    "# Filter equipment that appears more than once\n",
    "df_equipment_more_than_once = df_equipment_SAP_Con_Sol_Baja[df_equipment_SAP_Con_Sol_Baja[\"Number_of_Appearances\"] > 1]\n",
    "\n",
    "# Show the result\n",
    "print(\"Equipment appearing more than once:\", df_equipment_more_than_once.shape[0])\n",
    "df_equipment_decomission_request[df_equipment_decomission_request[\"Equipment_ID\"].isin(df_equipment_more_than_once[\"Equipment_ID\"])]\n"
   ]
  },
  {
   "cell_type": "markdown",
   "metadata": {},
   "source": [
    "We see that there are 4 cases with more than one decommission request that have not yet been decommissioned. Let's take a closer look at these pieces of equipment."
   ]
  },
  {
   "cell_type": "markdown",
   "metadata": {},
   "source": [
    "Let's mark for removal the equipment that has a decommission request and was purchased before 2018. The rest of the equipment is noteworthy, as they were purchased recently and already have a decommission request."
   ]
  },
  {
   "cell_type": "code",
   "execution_count": 30,
   "metadata": {},
   "outputs": [
    {
     "name": "stdout",
     "output_type": "stream",
     "text": [
      "Equipment to delete with decommissioning request: 117\n",
      "Equipment to analyze with decommissioning request: 9\n"
     ]
    }
   ],
   "source": [
    "df_remove_with_request = df_equipment_SAP_Con_Sol_Baja[df_equipment_SAP_Con_Sol_Baja[\"Purchase_year\"] < 2018][\"Equipment_ID\"]\n",
    "df_analyze_with_request = df_equipment_SAP_Con_Sol_Baja[df_equipment_SAP_Con_Sol_Baja[\"Purchase_year\"] >= 2018][\"Equipment_ID\"]\n",
    "\n",
    "print(\"Equipment to delete with decommissioning request:\", df_remove_with_request.shape[0])\n",
    "print(\"Equipment to analyze with decommissioning request:\", df_analyze_with_request.shape[0])"
   ]
  },
  {
   "cell_type": "markdown",
   "metadata": {},
   "source": [
    "## Part 8: Duplicate equipment"
   ]
  },
  {
   "cell_type": "markdown",
   "metadata": {},
   "source": [
    "Let's check if there are duplicate pieces of equipment with the same serial number. To do this, we will look for equipment that has the same last four digits of the serial number and the same model or brand."
   ]
  },
  {
   "cell_type": "code",
   "execution_count": 31,
   "metadata": {},
   "outputs": [],
   "source": [
    "df_equipment[\"Serial_number_Last_4_Digits\"] = df_equipment[\"Serial_number\"].str[-4:]"
   ]
  },
  {
   "cell_type": "code",
   "execution_count": 32,
   "metadata": {},
   "outputs": [
    {
     "name": "stdout",
     "output_type": "stream",
     "text": [
      "\n",
      "Number of equipment with possible serial number duplicates: 26\n",
      "Sample of possible serial number duplicates:\n"
     ]
    },
    {
     "data": {
      "text/html": [
       "<div>\n",
       "<style scoped>\n",
       "    .dataframe tbody tr th:only-of-type {\n",
       "        vertical-align: middle;\n",
       "    }\n",
       "\n",
       "    .dataframe tbody tr th {\n",
       "        vertical-align: top;\n",
       "    }\n",
       "\n",
       "    .dataframe thead th {\n",
       "        text-align: right;\n",
       "    }\n",
       "</style>\n",
       "<table border=\"1\" class=\"dataframe\">\n",
       "  <thead>\n",
       "    <tr style=\"text-align: right;\">\n",
       "      <th></th>\n",
       "      <th>Equipment_ID</th>\n",
       "      <th>Serial_number</th>\n",
       "      <th>Serial_number_Last_4_Digits</th>\n",
       "      <th>Manufacturer</th>\n",
       "      <th>Model</th>\n",
       "    </tr>\n",
       "  </thead>\n",
       "  <tbody>\n",
       "    <tr>\n",
       "      <th>6577</th>\n",
       "      <td>T35-ARXDSSIS</td>\n",
       "      <td>ARXDSSIS</td>\n",
       "      <td>SSIS</td>\n",
       "      <td>F15</td>\n",
       "      <td>M159</td>\n",
       "    </tr>\n",
       "    <tr>\n",
       "      <th>7095</th>\n",
       "      <td>T3-ARXDSSIS</td>\n",
       "      <td>ARXDSSIS</td>\n",
       "      <td>SSIS</td>\n",
       "      <td>F15</td>\n",
       "      <td>M331</td>\n",
       "    </tr>\n",
       "    <tr>\n",
       "      <th>11980</th>\n",
       "      <td>T15-ESISTV</td>\n",
       "      <td>ESISTV</td>\n",
       "      <td>ISTV</td>\n",
       "      <td>F12</td>\n",
       "      <td>M37</td>\n",
       "    </tr>\n",
       "    <tr>\n",
       "      <th>11878</th>\n",
       "      <td>T19-ESISTV</td>\n",
       "      <td>ESISTV</td>\n",
       "      <td>ISTV</td>\n",
       "      <td>F12</td>\n",
       "      <td>M37</td>\n",
       "    </tr>\n",
       "    <tr>\n",
       "      <th>5582</th>\n",
       "      <td>T94-ISIISYUKSU</td>\n",
       "      <td>ISIISYUKSU</td>\n",
       "      <td>UKSU</td>\n",
       "      <td>F73</td>\n",
       "      <td>M524</td>\n",
       "    </tr>\n",
       "    <tr>\n",
       "      <th>8528</th>\n",
       "      <td>T67-ISIISYUKSU</td>\n",
       "      <td>ISIISYUKSU</td>\n",
       "      <td>UKSU</td>\n",
       "      <td>F2</td>\n",
       "      <td>M873</td>\n",
       "    </tr>\n",
       "    <tr>\n",
       "      <th>9111</th>\n",
       "      <td>T14-ISIISYUKSU</td>\n",
       "      <td>ISIISYUKSU</td>\n",
       "      <td>UKSU</td>\n",
       "      <td>F2</td>\n",
       "      <td>M24</td>\n",
       "    </tr>\n",
       "    <tr>\n",
       "      <th>6314</th>\n",
       "      <td>T21-ISIISYUKSU</td>\n",
       "      <td>ISIISYUKSU</td>\n",
       "      <td>UKSU</td>\n",
       "      <td>F73</td>\n",
       "      <td>M196</td>\n",
       "    </tr>\n",
       "    <tr>\n",
       "      <th>3965</th>\n",
       "      <td>T177-ISSVGAAT</td>\n",
       "      <td>ISSVGAAT</td>\n",
       "      <td>GAAT</td>\n",
       "      <td>F367</td>\n",
       "      <td>M1752</td>\n",
       "    </tr>\n",
       "    <tr>\n",
       "      <th>6742</th>\n",
       "      <td>T104-ISSVGAAT</td>\n",
       "      <td>ISSVGAAT</td>\n",
       "      <td>GAAT</td>\n",
       "      <td>F367</td>\n",
       "      <td>M1672</td>\n",
       "    </tr>\n",
       "  </tbody>\n",
       "</table>\n",
       "</div>"
      ],
      "text/plain": [
       "         Equipment_ID Serial_number Serial_number_Last_4_Digits Manufacturer  \\\n",
       "6577     T35-ARXDSSIS      ARXDSSIS                        SSIS          F15   \n",
       "7095      T3-ARXDSSIS      ARXDSSIS                        SSIS          F15   \n",
       "11980      T15-ESISTV        ESISTV                        ISTV          F12   \n",
       "11878      T19-ESISTV        ESISTV                        ISTV          F12   \n",
       "5582   T94-ISIISYUKSU    ISIISYUKSU                        UKSU          F73   \n",
       "8528   T67-ISIISYUKSU    ISIISYUKSU                        UKSU           F2   \n",
       "9111   T14-ISIISYUKSU    ISIISYUKSU                        UKSU           F2   \n",
       "6314   T21-ISIISYUKSU    ISIISYUKSU                        UKSU          F73   \n",
       "3965    T177-ISSVGAAT      ISSVGAAT                        GAAT         F367   \n",
       "6742    T104-ISSVGAAT      ISSVGAAT                        GAAT         F367   \n",
       "\n",
       "       Model  \n",
       "6577    M159  \n",
       "7095    M331  \n",
       "11980    M37  \n",
       "11878    M37  \n",
       "5582    M524  \n",
       "8528    M873  \n",
       "9111     M24  \n",
       "6314    M196  \n",
       "3965   M1752  \n",
       "6742   M1672  "
      ]
     },
     "execution_count": 32,
     "metadata": {},
     "output_type": "execute_result"
    }
   ],
   "source": [
    "# Filter equipment with a valid serial number (non-empty and non-null)\n",
    "df_with_serial = df_equipment[df_equipment['Serial_number'].notna() & (df_equipment['Serial_number'].str.strip() != '')]\n",
    "\n",
    "# Identify potential duplicates based on the serial number\n",
    "serial_duplicates = df_with_serial[df_with_serial.duplicated(subset=['Serial_number'], keep=False)]\n",
    "\n",
    "# Sort by Serial Number for better visualization\n",
    "serial_duplicates = serial_duplicates.sort_values('Serial_number')\n",
    "\n",
    "# Filter only those with the same manufacturer or model\n",
    "duplicates_same_manufacturer_model = serial_duplicates[\n",
    "    serial_duplicates.duplicated(subset=['Serial_number', 'Manufacturer'], keep=False) | \n",
    "    serial_duplicates.duplicated(subset=['Serial_number', 'Model'], keep=False)\n",
    "]\n",
    "\n",
    "# Display the number of possible duplicates\n",
    "print(f\"\\nNumber of equipment with possible serial number duplicates: {duplicates_same_manufacturer_model.shape[0]}\")\n",
    "\n",
    "# Show a sample of possible duplicates\n",
    "print(\"Sample of possible serial number duplicates:\")\n",
    "duplicates_same_manufacturer_model[['Equipment_ID', 'Serial_number', 'Serial_number_Last_4_Digits', 'Manufacturer', 'Model']].head(10)\n"
   ]
  },
  {
   "cell_type": "markdown",
   "metadata": {},
   "source": [
    "These cases need to be analyzed in more detail, but we can already see some suspected duplicates, such as **T94-ISIISYUKSU** and **T67-ISIISYUKSU**. "
   ]
  },
  {
   "cell_type": "code",
   "execution_count": 33,
   "metadata": {},
   "outputs": [],
   "source": [
    "df_analyze_duplicates = duplicates_same_manufacturer_model.copy()"
   ]
  },
  {
   "cell_type": "markdown",
   "metadata": {},
   "source": [
    "## Final List of Equipment to Remove\n"
   ]
  },
  {
   "cell_type": "markdown",
   "metadata": {},
   "source": [
    "### Summary"
   ]
  },
  {
   "cell_type": "markdown",
   "metadata": {},
   "source": [
    "#### 1. Equipment Without Hospital  \n",
    "- Last order before 2020 or purchased before 2013.  \n",
    "- Source file: `df_remove_missing_hospital`  \n",
    "\n",
    "#### 2. Equipment in Decommissioned Hospitals (BAJA)  \n",
    "- Last order before 2020 or purchased before 2013.  \n",
    "- Source file: `df_remove_baja_hospital`  \n",
    "\n",
    "#### 3. NOEN Equipment (Non-Operational Equipment)  \n",
    "- No assigned hospital.  \n",
    "- Marked for decommissioning.  \n",
    "- Purchased before 2013 with last order before 2013 or missing.  \n",
    "- Source file: `df_remove_NOEN`  \n",
    "\n",
    "#### 4. Equipment Purchased Before 2013  \n",
    "- Last order before 2013 or missing. \n",
    "- Marked for decommissioning.  \n",
    "- No assigned hospital.\n",
    "- Source file: `df_remove_old_devices`  \n",
    "\n",
    "#### 5. Equipment with Last Order Before 2013 or Missing  \n",
    "- Purchased before 2013. \n",
    "- Marked for decommissioning or no assigned hospital.  \n",
    "- Source file: `df_remove_no_orders`  \n",
    "\n",
    "#### 6. Equipment with a Decommission Request  \n",
    "- Purchased before 2018.  \n",
    "- Source file: `df_remove_with_request`  \n"
   ]
  },
  {
   "cell_type": "markdown",
   "metadata": {},
   "source": [
    "### Code"
   ]
  },
  {
   "cell_type": "code",
   "execution_count": 34,
   "metadata": {},
   "outputs": [
    {
     "data": {
      "text/plain": [
       "(11,)"
      ]
     },
     "execution_count": 34,
     "metadata": {},
     "output_type": "execute_result"
    }
   ],
   "source": [
    "df_remove_baja_hospital.shape"
   ]
  },
  {
   "cell_type": "code",
   "execution_count": 35,
   "metadata": {},
   "outputs": [
    {
     "name": "stdout",
     "output_type": "stream",
     "text": [
      "Total equipment marked for removal: 1477\n"
     ]
    }
   ],
   "source": [
    "# Create a dictionary with all DataFrames to be removed\n",
    "df_dict = {\n",
    "    \"df_remove_baja_hospital\": df_remove_baja_hospital,  # Decommissioned hospitals (BAJA)\n",
    "    \"df_remove_NOEN\": df_remove_NOEN,  # NOEN equipment meeting removal criteria\n",
    "    \"df_remove_old_devices\": df_remove_old_devices,  # Equipment purchased before 2013\n",
    "    \"df_remove_no_orders\": df_remove_no_orders,  # Equipment with last order before 2013 or missing\n",
    "    \"df_remove_missing_hospital\": df_remove_missing_hospital,  # Equipment without hospital assigned\n",
    "    \"df_remove_with_request\": df_remove_with_request,  # Equipment with a decommission request before 2018\n",
    "}\n",
    "\n",
    "# Combine all removal lists into a single DataFrame\n",
    "df_all = pd.concat(df_dict.values(), keys=df_dict.keys()).reset_index(level=0) \\\n",
    "    .rename(columns={\"level_0\": \"Source\"}).drop_duplicates()\n",
    "\n",
    "# Create a pivot table to indicate in which lists each equipment appears\n",
    "df_pivot = df_all.pivot_table(index=\"Equipment_ID\", columns=\"Source\", aggfunc=\"size\", fill_value=0)\n",
    "\n",
    "# Generate a final list of unique equipment to be removed\n",
    "df_recommendation_remove = pd.DataFrame(df_all[\"Equipment_ID\"].unique(), columns=[\"Equipment_ID\"])\n",
    "\n",
    "# Add the final removal recommendation DataFrame to the dictionary\n",
    "df_dict[\"df_recommendation_remove\"] = df_recommendation_remove\n",
    "\n",
    "# Count the total number of unique equipment to be removed\n",
    "total_equipment_remove = df_recommendation_remove.shape[0]\n",
    "\n",
    "print(f\"Total equipment marked for removal: {total_equipment_remove}\")\n"
   ]
  },
  {
   "cell_type": "code",
   "execution_count": 36,
   "metadata": {},
   "outputs": [
    {
     "data": {
      "image/png": "[encoded data removed]",
      "text/plain": [
       "<Figure size 1400x500 with 1 Axes>"
      ]
     },
     "metadata": {},
     "output_type": "display_data"
    }
   ],
   "source": [
    "import matplotlib.pyplot as plt\n",
    "import os\n",
    "\n",
    "# Count and sort values\n",
    "counts_dict = {key: len(value) for key, value in df_dict.items()}\n",
    "sorted_counts = dict(sorted(counts_dict.items(), key=lambda item: item[1], reverse=True))\n",
    "\n",
    "# Rename keys for display\n",
    "rename_dict = {\n",
    "    \"df_recommendation_remove\": \"Total for Removal\",\n",
    "    \"df_remove_no_orders\": \"No Orders Before 2013\",\n",
    "    \"df_remove_old_devices\": \"Purchased Before 2013\",\n",
    "    \"df_remove_NOEN\": \"NOEN Criteria\",\n",
    "    \"df_remove_missing_hospital\": \"No Assigned Hospital\",\n",
    "    \"df_remove_with_request\": \"Decommission Request\",\n",
    "    \"df_remove_baja_hospital\": \"Decommissioned Hospitals\",\n",
    "}\n",
    "\n",
    "keys = list(sorted_counts.keys())\n",
    "values = list(sorted_counts.values())\n",
    "labels = [rename_dict[k] for k in keys]\n",
    "\n",
    "# Create figure\n",
    "fig, ax = plt.subplots(figsize=(14, 5))\n",
    "bars = ax.bar(range(len(keys)), values, color=\"#4C9F70\", edgecolor=\"black\", linewidth=0.8)\n",
    "\n",
    "# Axis labels and title\n",
    "ax.set_title(\"Devices Recommended for Removal\", fontsize=16, weight='bold', pad=15)\n",
    "ax.set_xlabel(\"Category\", fontsize=12)\n",
    "ax.set_ylabel(\"Number of Devices\", fontsize=12)\n",
    "ax.set_xticks(range(len(keys)))\n",
    "ax.set_xticklabels(labels, rotation=35, ha=\"right\", fontsize=11)\n",
    "\n",
    "# Add count labels above bars\n",
    "for bar in bars:\n",
    "    height = bar.get_height()\n",
    "    ax.annotate(f\"{int(height)}\",\n",
    "                xy=(bar.get_x() + bar.get_width() / 2, height),\n",
    "                xytext=(0, 2),  # Offset above the bar\n",
    "                textcoords=\"offset points\",\n",
    "                ha='center', va='bottom',\n",
    "                fontsize=11, color=\"black\", weight=\"bold\")\n",
    "\n",
    "# Styling\n",
    "ax.grid(axis='y', linestyle='--', alpha=0.4)\n",
    "ax.set_axisbelow(True)\n",
    "ax.set_ylim(0, max(values) * 1.1)  # Ensure enough space above tallest bar\n",
    "\n",
    "plt.tight_layout()\n",
    "\n",
    "# Save the plot\n",
    "output_folder = os.path.join(\"..\", \"images\")\n",
    "os.makedirs(output_folder, exist_ok=True)\n",
    "output_path = os.path.join(output_folder, \"removal_devices_barplot_cleaned.png\")\n",
    "plt.savefig(output_path, dpi=300)\n",
    "\n",
    "plt.show()\n"
   ]
  },
  {
   "cell_type": "code",
   "execution_count": 37,
   "metadata": {},
   "outputs": [
    {
     "name": "stdout",
     "output_type": "stream",
     "text": [
      "Total equipment marked for removal: 1477\n",
      "Percentage of the total purchase cost of the equipment in df_recommendation_remove: 4.7\n"
     ]
    }
   ],
   "source": [
    "# Count the total number of equipment marked for removal\n",
    "print(f\"Total equipment marked for removal: {df_recommendation_remove.shape[0]}\")\n",
    "\n",
    "# Calculate the total purchase value of the equipment in df_recommendation_remove\n",
    "total_cost_deco = df_equipment.loc[df_equipment[\"Equipment_ID\"].isin(df_recommendation_remove[\"Equipment_ID\"]), \"Purchase_value\"].sum()\n",
    "\n",
    "total_cost = df_equipment[\"Purchase_value\"].sum()\n",
    "\n",
    "Percentage = (total_cost_deco / total_cost) * 100\n",
    "\n",
    "\n",
    "# Print the formatted percentage\n",
    "print(f\"Percentage of the total purchase cost of the equipment in df_recommendation_remove: {Percentage.round(1)}\")\n",
    "\n",
    "# Add df_recommendation_remove to the dictionary\n",
    "df_dict[\"df_recommendation_remove\"] = df_recommendation_remove\n"
   ]
  },
  {
   "cell_type": "code",
   "execution_count": 40,
   "metadata": {},
   "outputs": [
    {
     "name": "stdout",
     "output_type": "stream",
     "text": [
      "Total equipment marked for removal: 1477\n",
      "Information about the equipment marked for removal:\n"
     ]
    },
    {
     "data": {
      "image/png": "[encoded data removed]",
      "text/plain": [
       "<Figure size 1100x700 with 4 Axes>"
      ]
     },
     "metadata": {},
     "output_type": "display_data"
    }
   ],
   "source": [
    "print(f\"Total equipment marked for removal: {total_equipment_remove}\")\n",
    "print(\"Information about the equipment marked for removal:\")\n",
    "\n",
    "f.visualize_flagged_equipment(df_equipment[df_equipment[\"Equipment_ID\"].isin(df_recommendation_remove[\"Equipment_ID\"])].copy(),output_name=\"flagged_removal_equipment\")\n"
   ]
  },
  {
   "cell_type": "markdown",
   "metadata": {},
   "source": [
    "**Hospitals with the Most Flagged Equipment:** H2 and H1 have the highest number of flagged devices, significantly surpassing other hospitals. This could indicate maintenance inefficiencies or a need for better asset management.\n",
    "\n",
    "**Most Flagged Equipment Types:** T3 equipments have the highest number of flagged devices.\n",
    "\n",
    "**Last Order Year Distribution:** Many flagged devices had their last recorded order in recent years (2023-2024), but there are also a significant number from before 2013, indicating obsolete equipment that might require urgent replacement.\n",
    "\n",
    "**Purchase Year Distribution:** There are peaks in flagged equipment purchases around 2005, 2008, and 2012, suggesting that equipment from these years is more prone to being flagged, possibly due to aging or lack of maintenance."
   ]
  },
  {
   "cell_type": "code",
   "execution_count": 38,
   "metadata": {},
   "outputs": [
    {
     "name": "stdout",
     "output_type": "stream",
     "text": [
      "⚠️ df_remove_baja_hospital was not a DataFrame, converting to empty DataFrame with 'Equipment_ID'.\n",
      "✅ Saved: DF_Remove1\\df_remove_baja_hospital.csv\n",
      "⚠️ df_remove_NOEN was not a DataFrame, converting to empty DataFrame with 'Equipment_ID'.\n",
      "✅ Saved: DF_Remove1\\df_remove_NOEN.csv\n",
      "⚠️ df_remove_old_devices was not a DataFrame, converting to empty DataFrame with 'Equipment_ID'.\n",
      "✅ Saved: DF_Remove1\\df_remove_old_devices.csv\n",
      "⚠️ df_remove_no_orders was not a DataFrame, converting to empty DataFrame with 'Equipment_ID'.\n",
      "✅ Saved: DF_Remove1\\df_remove_no_orders.csv\n",
      "✅ Saved: DF_Remove1\\df_remove_missing_hospital.csv\n",
      "⚠️ df_remove_with_request was not a DataFrame, converting to empty DataFrame with 'Equipment_ID'.\n",
      "✅ Saved: DF_Remove1\\df_remove_with_request.csv\n",
      "✅ Saved: DF_Remove1\\df_recommendation_remove.csv\n"
     ]
    }
   ],
   "source": [
    "f.save_clean_dataframes(\"DF_Remove1\", df_dict)\n"
   ]
  },
  {
   "cell_type": "markdown",
   "metadata": {},
   "source": [
    "## Final List of Equipment to Analyze  "
   ]
  },
  {
   "cell_type": "markdown",
   "metadata": {},
   "source": [
    "### Summary"
   ]
  },
  {
   "cell_type": "markdown",
   "metadata": {},
   "source": [
    "\n",
    "#### 1. Equipment Without Hospital  \n",
    "- Not marked for removal.  \n",
    "- Source file: `df_analyze_missing_hospital`  \n",
    "\n",
    "#### 2. Equipment in Decommissioned Hospitals (BAJA)  \n",
    "- Not marked for removal.  \n",
    "- Source file: `df_analyze_baja_hospital`  \n",
    "\n",
    "#### 3. Equipment Without an Assigned Storage Location  \n",
    "- Source file: `df_analyze_no_storage`  \n",
    "\n",
    "#### 4. Equipment in Hospitals with Less than 4 Devices  \n",
    "- Source file: `df_analyze_small_hospitals`  \n",
    "\n",
    "#### 6. NOEN Equipment for Further Analysis  \n",
    "- Not marked for removal but purchased before 2013.  \n",
    "- Source file: `df_analyze_NOEN`  \n",
    "\n",
    "#### 7. NOEN Equipment Purchased Before 2008  \n",
    "- Older NOEN equipment requiring review.  \n",
    "- Source file: `df_analyze_NOEN_pre2008`  \n",
    "\n",
    "#### 8. NOEN Equipment Purchased After 2020  \n",
    "- Recently acquired NOEN equipment requiring review.  \n",
    "- Source file: `df_analyze_NOEN_post2020`  \n",
    "\n",
    "#### 9. Equipment Purchased Before 2013 but Not Meeting Removal Criteria  \n",
    "- Over 11 years old but still active. \n",
    "- Last order before 2013 or missing.   \n",
    "- Source file: `df_analyze_old_devices`  \n",
    "\n",
    "#### 10. Equipment with Last Order Before 2013 or Missing but Not for Removal  \n",
    "- Purchased before 2013.  \n",
    "- Source file: `df_analyze_no_orders`  \n",
    "\n",
    "#### 11. Equipment with a Decommission Request but Purchased After 2018  \n",
    "- Recently purchased but already flagged for decommissioning.  \n",
    "- Source file: `df_analyze_with_request`  \n",
    "\n",
    "#### 12. Duplicate Equipment for Analysis  \n",
    "- Equipment with potential serial number duplicates.  \n",
    "- Source file: `df_analyze_duplicates`  "
   ]
  },
  {
   "cell_type": "markdown",
   "metadata": {},
   "source": [
    "### Code"
   ]
  },
  {
   "cell_type": "code",
   "execution_count": 42,
   "metadata": {},
   "outputs": [
    {
     "name": "stdout",
     "output_type": "stream",
     "text": [
      "Total equipment marked for analysis: 1619\n",
      "Total equipment marked for duplicate: 26\n"
     ]
    }
   ],
   "source": [
    "# Create a dictionary with all DataFrames to be analyzed\n",
    "df_analyze_dict = {\n",
    "    \"df_analyze_missing_hospital\": df_analyze_missing_hospital,  # Equipment without a hospital but not marked for removal  \n",
    "    \"df_analyze_baja_hospital\": df_analyze_baja_hospital,  # Equipment in decommissioned hospitals (BAJA) but not marked for removal\n",
    "    \"df_analyze_no_storage\": df_analyze_no_storage,  # Equipment without an assigned storage location\n",
    "    \"df_analyze_small_hospitals\": df_analyze_small_hospitals,  # Equipment in hospitals with less than 4 devices\n",
    "    \"df_analyze_NOEN\": df_analyze_NOEN,  # NOEN equipment for further analysis\n",
    "    \"df_analyze_NOEN_pre2008\": df_analyze_NOEN_pre2008,  # NOEN equipment purchased before 2008\n",
    "    \"df_analyze_NOEN_post2020\": df_analyze_NOEN_post2020,  # NOEN equipment purchased after 2020\n",
    "    \"df_analyze_old_devices\": df_analyze_old_devices,  # Equipment purchased before 2013 but not meeting removal criteria\n",
    "    \"df_analyze_no_orders\": df_analyze_no_orders,  # Equipment with last order before 2013 or missing but not for removal\n",
    "    \"df_analyze_with_request\": df_analyze_with_request,  # Equipment with a decommission request but purchased after 2018\n",
    "    \"df_analyze_duplicates\": df_analyze_duplicates  # Duplicate equipment for analysis\n",
    "\n",
    "}\n",
    "\n",
    "\n",
    "# Combine all analysis lists into a single DataFrame\n",
    "df_analyze_all = pd.concat(df_analyze_dict.values(), keys=df_analyze_dict.keys()).reset_index(level=0) \\\n",
    "    .rename(columns={\"level_0\": \"Source\"}).drop_duplicates()\n",
    "\n",
    "# Create a pivot table to indicate in which lists each equipment appears\n",
    "df_analyze_pivot = df_analyze_all.pivot_table(index=\"Equipment_ID\", columns=\"Source\", aggfunc=\"size\", fill_value=0)\n",
    "\n",
    "# Generate a final list of unique equipment to be analyzed\n",
    "df_recommendation_analyze = pd.DataFrame(df_analyze_all[\"Equipment_ID\"].unique(), columns=[\"Equipment_ID\"])\n",
    "\n",
    "# Add the final analysis recommendation DataFrame to the dictionary\n",
    "df_analyze_dict[\"df_recommendation_analyze\"] = df_recommendation_analyze\n",
    "\n",
    "# Count the total number of unique equipment to be analyzed\n",
    "total_equipment_analyze = df_recommendation_analyze.shape[0]\n",
    "\n",
    "print(f\"Total equipment marked for analysis: {total_equipment_analyze}\")\n",
    "\n",
    "# Contar el total de equipos únicos a remove\n",
    "total_equipos_analyze = df_analyze_duplicates.shape[0]\n",
    "\n",
    "print(f\"Total equipment marked for duplicate: {df_analyze_duplicates.shape[0]}\")\n"
   ]
  },
  {
   "cell_type": "code",
   "execution_count": 43,
   "metadata": {},
   "outputs": [
    {
     "data": {
      "image/png": "[encoded data removed]",
      "text/plain": [
       "<Figure size 1400x500 with 1 Axes>"
      ]
     },
     "metadata": {},
     "output_type": "display_data"
    }
   ],
   "source": [
    "import os\n",
    "import matplotlib.pyplot as plt\n",
    "\n",
    "# Count and sort values\n",
    "counts_dict = {key: len(value) for key, value in df_analyze_dict.items()}\n",
    "sorted_counts = dict(sorted(counts_dict.items(), key=lambda item: item[1], reverse=True))\n",
    "\n",
    "# Readable display labels\n",
    "rename_dict = {\n",
    "    \"df_recommendation_analyze\": \"Total for Analysis\",\n",
    "    \"df_analyze_old_devices\": \"Old Equipment\",\n",
    "    \"df_analyze_no_storage\": \"No Storage Assigned\",\n",
    "    \"df_analyze_NOEN\": \"NOEN for Review\",\n",
    "    \"df_analyze_NOEN_pre2008\": \"NOEN Before 2008\",\n",
    "    \"df_analyze_missing_hospital\": \"No Assigned Hospital\",\n",
    "    \"df_analyze_no_orders\": \"No Orders Recorded\",\n",
    "    \"df_analyze_NOEN_post2020\": \"NOEN After 2020\",\n",
    "    \"df_analyze_small_hospitals\": \"Small Hospitals\",\n",
    "    \"df_analyze_with_request\": \"Decommission Request\",\n",
    "    \"df_analyze_baja_hospital\": \"Decommissioned Hospitals\",\n",
    "    \"df_analyze_duplicates\": \"Duplicates\"\n",
    "}\n",
    "\n",
    "# Prepare data\n",
    "keys = list(sorted_counts.keys())\n",
    "values = list(sorted_counts.values())\n",
    "labels = [rename_dict[k] for k in keys]\n",
    "\n",
    "# Create figure\n",
    "fig, ax = plt.subplots(figsize=(14, 5))\n",
    "bars = ax.bar(range(len(keys)), values, color=\"#3C88C2\", edgecolor=\"black\", linewidth=0.8)\n",
    "\n",
    "# Titles and labels\n",
    "ax.set_title(\"Devices Recommended for Analysis\", fontsize=16, weight='bold', pad=15)\n",
    "ax.set_xlabel(\"Category\", fontsize=12)\n",
    "ax.set_ylabel(\"Number of Devices\", fontsize=12)\n",
    "ax.set_xticks(range(len(keys)))\n",
    "ax.set_xticklabels(labels, rotation=35, ha=\"right\", fontsize=11)\n",
    "\n",
    "# Add count labels above bars\n",
    "for bar in bars:\n",
    "    height = bar.get_height()\n",
    "    ax.annotate(f\"{int(height)}\",\n",
    "                xy=(bar.get_x() + bar.get_width() / 2, height),\n",
    "                xytext=(0, 1),  # Offset above the bar\n",
    "                textcoords=\"offset points\",\n",
    "                ha='center', va='bottom',\n",
    "                fontsize=11, color=\"black\", weight=\"bold\")\n",
    "\n",
    "# Add subtle grid\n",
    "ax.grid(axis='y', linestyle='--', alpha=0.4)\n",
    "ax.set_axisbelow(True)\n",
    "ax.set_ylim(0, max(values) * 1.1)\n",
    "\n",
    "plt.tight_layout()\n",
    "\n",
    "# Save image\n",
    "output_folder = os.path.join(\"..\", \"images\")\n",
    "os.makedirs(output_folder, exist_ok=True)\n",
    "output_path = os.path.join(output_folder, \"flagged_analyze_devices_barplot_cleaned.png\")\n",
    "plt.savefig(output_path, dpi=300)\n",
    "\n",
    "plt.show()\n"
   ]
  },
  {
   "cell_type": "code",
   "execution_count": 44,
   "metadata": {},
   "outputs": [
    {
     "name": "stdout",
     "output_type": "stream",
     "text": [
      "✅ Saved: DF_analyze1\\df_analyze_missing_hospital.csv\n",
      "⚠️ df_analyze_baja_hospital was not a DataFrame, converting to empty DataFrame with 'Equipment_ID'.\n",
      "✅ Saved: DF_analyze1\\df_analyze_baja_hospital.csv\n",
      "✅ Saved: DF_analyze1\\df_analyze_no_storage.csv\n",
      "✅ Saved: DF_analyze1\\df_analyze_small_hospitals.csv\n",
      "✅ Saved: DF_analyze1\\df_analyze_NOEN.csv\n",
      "✅ Saved: DF_analyze1\\df_analyze_NOEN_pre2008.csv\n",
      "✅ Saved: DF_analyze1\\df_analyze_NOEN_post2020.csv\n",
      "✅ Saved: DF_analyze1\\df_analyze_old_devices.csv\n",
      "✅ Saved: DF_analyze1\\df_analyze_no_orders.csv\n",
      "⚠️ df_analyze_with_request was not a DataFrame, converting to empty DataFrame with 'Equipment_ID'.\n",
      "✅ Saved: DF_analyze1\\df_analyze_with_request.csv\n",
      "✅ Saved: DF_analyze1\\df_analyze_duplicates.csv\n",
      "✅ Saved: DF_analyze1\\df_recommendation_analyze.csv\n"
     ]
    }
   ],
   "source": [
    "f.save_clean_dataframes(\"DF_analyze1\", df_analyze_dict)\n",
    "\n"
   ]
  }
 ],
 "metadata": {
  "kernelspec": {
   "display_name": "Python 3",
   "language": "python",
   "name": "python3"
  },
  "language_info": {
   "codemirror_mode": {
    "name": "ipython",
    "version": 3
   },
   "file_extension": ".py",
   "mimetype": "text/x-python",
   "name": "python",
   "nbconvert_exporter": "python",
   "pygments_lexer": "ipython3",
   "version": "3.11.2"
  }
 },
 "nbformat": 4,
 "nbformat_minor": 2
}
